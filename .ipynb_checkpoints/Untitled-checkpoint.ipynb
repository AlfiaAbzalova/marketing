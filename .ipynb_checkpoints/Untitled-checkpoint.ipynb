{
 "cells": [
  {
   "cell_type": "markdown",
   "id": "e62c458a-3d94-4319-853a-ee9a03d0119a",
   "metadata": {},
   "source": [
    "# Проект \"Маркетинг\""
   ]
  },
  {
   "cell_type": "markdown",
   "id": "1c9991c2-f33a-4830-8b7f-464e4198a19e",
   "metadata": {},
   "source": [
    "Интернет-магазин собирает историю покупателей, проводит рассылки предложений и планирует будущие продажи. \r\n",
    "Для оптимизации процессов надо выделить пользователей, которые готовы совершить покупку в ближайшее время.\r\n",
    "Вам предстоит выполнить инженеринг признаков, обучить и оптимизировать модель бинарной классификации, которая предскажет вероятность совершения покупки пользователем в течение 90 дней.\r\n"
   ]
  },
  {
   "cell_type": "markdown",
   "id": "6ca7bbce-9657-4d4c-b468-5cbf11fad665",
   "metadata": {},
   "source": [
    "Описание данных\n",
    "\n",
    "apparel-purchases\n",
    "\n",
    "Данные о покупках клиентов по дням и по товарам. В каждой записи покупка определенного товара, его цена, количество штук. \n",
    "\n",
    "В таблице есть списки идентификаторов, к каким категориям относится товар. Часто это вложенные категории (например, автотовары-аксессуары-освежители), но также может включать в начале списка маркер распродажи или маркер женщинам/мужчинам. \n",
    "\n",
    "Нумерация категорий сквозная для всех уровней, то есть 44 на второй позиции списка или на третьей — это одна и та же категория. Иногда дерево категорий обновляется, поэтому могут меняться вложенности, например, [‘4’, ‘28’, ‘44’, ‘1594’] или [‘4’, ‘44’, ‘1594’]. Как обработать такие случаи — можете предлагать свои варианты решения. \n",
    "\n",
    "client_id — идентификатор клиента\n",
    "\n",
    "quantity — количество единиц товара\n",
    "\n",
    "price — цена товара\n",
    "\n",
    "category_ids — идентификаторы категорий\n",
    "\n",
    "date — дата покупки\n",
    "\n",
    "message_id — идентификатор сообщения из рассылки\n",
    "\n",
    "apparel-messages\n",
    "\n",
    "Рассылки, которые были отправлены клиентам из таблицы покупок. \n",
    "\n",
    "bulk_campaign_id — идентификатор рассылки\n",
    "\n",
    "client_id — идентификатор клиента\n",
    "\n",
    "message_id — идентификатор сообщения\n",
    "\n",
    "event — действие с сообщением (отправлено, открыто, покупка…)\n",
    "\n",
    "channel — канал рассылки\n",
    "\n",
    "date — дата действия\n",
    "\n",
    "created_at — дата-время полностью\n",
    "\n",
    "target\n",
    "\n",
    "client_id — идентификатор клиента\n",
    "\n",
    "target — клиент совершил покупку в целевом периоде\n",
    "\n",
    "Общая база рассылок огромна, поэтому собрали для вас агрегированную по дням статистику по рассылкам. Если будете создавать на основе этой статистики дополнительные признаки, обратите внимание, что нельзя суммировать по колонкам nunique, потому что это уникальные клиенты в пределах дня, у вас нет данных, повторяются ли они в другие дни. \n",
    "\n",
    "full_campaign_daily_event\n",
    "\n",
    "Агрегация общей базы рассылок по дням и типам событий. \n",
    "\n",
    "date — дата\n",
    "\n",
    "bulk_campaign_id — идентификатор рассылки\n",
    "\n",
    "count_event* — общее количество каждого события event\n",
    "\n",
    "nunique_event* — количество уникальных client_id в каждом событии\n",
    "\n",
    "в именах колонок найдете все типы событий event\n",
    "\n",
    "full_campaign_daily_event_channel\n",
    "\n",
    "Агрегация по дням с учетом событий и каналов рассылки. \n",
    "\n",
    "date — дата\n",
    "\n",
    "bulk_campaign_id — идентификатор рассылки\n",
    "\n",
    "count_event_channel — общее количество каждого события по каналам\n",
    "\n",
    "nunique_event_channel — количество уникальных client_id по событиям и каналам\n",
    "\n",
    "в именах колонок есть все типы событий event и каналов рассылки channel"
   ]
  },
  {
   "cell_type": "markdown",
   "id": "52a8f0d6-f19a-42ef-b86f-48487f33c289",
   "metadata": {},
   "source": [
    "## Загрузка данных и библиотек"
   ]
  },
  {
   "cell_type": "code",
   "execution_count": 5,
   "id": "293777c5-fa9a-43e4-b360-50b65096e5a4",
   "metadata": {},
   "outputs": [],
   "source": [
    "!pip install phik -q\n",
    "!pip install xgboost -q"
   ]
  },
  {
   "cell_type": "code",
   "execution_count": 6,
   "id": "47514810-d324-449b-bf99-7de4e855f209",
   "metadata": {},
   "outputs": [],
   "source": [
    "import os\n",
    "import time\n",
    "import numpy as np\n",
    "import pandas as pd\n",
    "import matplotlib.pyplot as plt\n",
    "import seaborn as sns\n",
    "import scipy.sparse as sp\n",
    "\n",
    "from sklearn.model_selection import train_test_split, GridSearchCV\n",
    "from sklearn.pipeline import Pipeline\n",
    "from sklearn.compose import ColumnTransformer\n",
    "from sklearn.preprocessing import StandardScaler, OneHotEncoder, OrdinalEncoder\n",
    "from sklearn.ensemble import RandomForestClassifier, GradientBoostingClassifier\n",
    "from sklearn.linear_model import LogisticRegression\n",
    "from sklearn.metrics import accuracy_score, classification_report, roc_auc_score\n",
    "\n",
    "from lightgbm import LGBMClassifier\n",
    "from catboost import CatBoostClassifier\n",
    "from xgboost import XGBClassifier\n",
    "\n",
    "from statsmodels.tsa.seasonal import seasonal_decompose\n",
    "from phik import resources, report, phik\n",
    "from sklearn.cluster import MiniBatchKMeans\n",
    "from sklearn.feature_extraction.text import CountVectorizer\n",
    "from scipy.cluster.hierarchy import dendrogram, linkage\n",
    "\n",
    "import joblib\n",
    "import shap\n",
    "\n",
    "# Установка констант\n",
    "RANDOM_STATE = 42\n",
    "TEST_SIZE = 0.25"
   ]
  },
  {
   "cell_type": "code",
   "execution_count": 7,
   "id": "ecae7507-d7bb-4e25-b2cc-1c48ea6d27fe",
   "metadata": {},
   "outputs": [
    {
     "name": "stdout",
     "output_type": "stream",
     "text": [
      "Файл успешно загружен\n"
     ]
    }
   ],
   "source": [
    "pth1 = 'C:/Users/LENOVO/Desktop/Jupyter notebook/мастерская 2/STD_M2_purchase_in_90_days/filtered_data/apparel-messages.csv'\n",
    "\n",
    "if os.path.exists(pth1):\n",
    "    apparel_messages = pd.read_csv(pth1)\n",
    "    print('Файл успешно загружен')\n",
    "else:\n",
    "    print('Ошибка')"
   ]
  },
  {
   "cell_type": "code",
   "execution_count": 8,
   "id": "36debc8f-8dc1-4b81-aa5e-bad0a6a9a49d",
   "metadata": {},
   "outputs": [
    {
     "name": "stdout",
     "output_type": "stream",
     "text": [
      "Файл успешно загружен\n"
     ]
    }
   ],
   "source": [
    "pth2 = 'C:/Users/LENOVO/Desktop/Jupyter notebook/мастерская 2/STD_M2_purchase_in_90_days/filtered_data/apparel-purchases.csv'\n",
    "\n",
    "if os.path.exists(pth2):\n",
    "    apparel_purchases = pd.read_csv(pth2)\n",
    "    print('Файл успешно загружен')\n",
    "else:\n",
    "    print('Ошибка')"
   ]
  },
  {
   "cell_type": "code",
   "execution_count": 9,
   "id": "8d8f116f-c4e1-4b5c-bef2-8c7df494010b",
   "metadata": {},
   "outputs": [
    {
     "name": "stdout",
     "output_type": "stream",
     "text": [
      "Файл успешно загружен\n"
     ]
    }
   ],
   "source": [
    "pth3 = 'C:/Users/LENOVO/Desktop/Jupyter notebook/мастерская 2/STD_M2_purchase_in_90_days/filtered_data/apparel-target_binary.csv'\n",
    "\n",
    "if os.path.exists(pth3):\n",
    "    apparel_target_binary = pd.read_csv(pth3)\n",
    "    print('Файл успешно загружен')\n",
    "else:\n",
    "    print('Ошибка')"
   ]
  },
  {
   "cell_type": "code",
   "execution_count": 10,
   "id": "93632ad1-71de-4e12-ac99-4a1bca54b75e",
   "metadata": {},
   "outputs": [
    {
     "name": "stdout",
     "output_type": "stream",
     "text": [
      "Файл успешно загружен\n"
     ]
    }
   ],
   "source": [
    "pth4 = 'C:/Users/LENOVO/Desktop/Jupyter notebook/мастерская 2/STD_M2_purchase_in_90_days/filtered_data/full_campaign_daily_event.csv'\n",
    "\n",
    "if os.path.exists(pth4):\n",
    "    full_campaign_daily_event = pd.read_csv(pth4)\n",
    "    print('Файл успешно загружен')\n",
    "else:\n",
    "    print('Ошибка')"
   ]
  },
  {
   "cell_type": "code",
   "execution_count": 11,
   "id": "a1f26cf1-6fc6-4ff0-8491-a7653ddf785c",
   "metadata": {},
   "outputs": [
    {
     "name": "stdout",
     "output_type": "stream",
     "text": [
      "Файл успешно загружен\n"
     ]
    }
   ],
   "source": [
    "pth5 = 'C:/Users/LENOVO/Desktop/Jupyter notebook/мастерская 2/STD_M2_purchase_in_90_days/filtered_data/full_campaign_daily_event_channel.csv'\n",
    "\n",
    "if os.path.exists(pth5):\n",
    "    full_campaign_daily_event_channel = pd.read_csv(pth5)\n",
    "    print('Файл успешно загружен')\n",
    "else:\n",
    "    print('Ошибка')"
   ]
  },
  {
   "cell_type": "markdown",
   "id": "81825b0e-9c06-4853-b8b9-bad5e730d0d8",
   "metadata": {},
   "source": [
    "## Подготовка данных"
   ]
  },
  {
   "cell_type": "markdown",
   "id": "e7302004-8fc0-4db0-8330-94050e7b6f2f",
   "metadata": {},
   "source": [
    "### apparel_purchases"
   ]
  },
  {
   "cell_type": "code",
   "execution_count": 14,
   "id": "a586ab01-514f-4595-8652-a1c0308582a3",
   "metadata": {},
   "outputs": [
    {
     "data": {
      "text/html": [
       "<div>\n",
       "<style scoped>\n",
       "    .dataframe tbody tr th:only-of-type {\n",
       "        vertical-align: middle;\n",
       "    }\n",
       "\n",
       "    .dataframe tbody tr th {\n",
       "        vertical-align: top;\n",
       "    }\n",
       "\n",
       "    .dataframe thead th {\n",
       "        text-align: right;\n",
       "    }\n",
       "</style>\n",
       "<table border=\"1\" class=\"dataframe\">\n",
       "  <thead>\n",
       "    <tr style=\"text-align: right;\">\n",
       "      <th></th>\n",
       "      <th>client_id</th>\n",
       "      <th>quantity</th>\n",
       "      <th>price</th>\n",
       "      <th>category_ids</th>\n",
       "      <th>date</th>\n",
       "      <th>message_id</th>\n",
       "    </tr>\n",
       "  </thead>\n",
       "  <tbody>\n",
       "    <tr>\n",
       "      <th>0</th>\n",
       "      <td>1515915625468169594</td>\n",
       "      <td>1</td>\n",
       "      <td>1999.0</td>\n",
       "      <td>['4', '28', '57', '431']</td>\n",
       "      <td>2022-05-16</td>\n",
       "      <td>1515915625468169594-4301-627b661e9736d</td>\n",
       "    </tr>\n",
       "    <tr>\n",
       "      <th>1</th>\n",
       "      <td>1515915625468169594</td>\n",
       "      <td>1</td>\n",
       "      <td>2499.0</td>\n",
       "      <td>['4', '28', '57', '431']</td>\n",
       "      <td>2022-05-16</td>\n",
       "      <td>1515915625468169594-4301-627b661e9736d</td>\n",
       "    </tr>\n",
       "    <tr>\n",
       "      <th>2</th>\n",
       "      <td>1515915625471138230</td>\n",
       "      <td>1</td>\n",
       "      <td>6499.0</td>\n",
       "      <td>['4', '28', '57', '431']</td>\n",
       "      <td>2022-05-16</td>\n",
       "      <td>1515915625471138230-4437-6282242f27843</td>\n",
       "    </tr>\n",
       "    <tr>\n",
       "      <th>3</th>\n",
       "      <td>1515915625471138230</td>\n",
       "      <td>1</td>\n",
       "      <td>4999.0</td>\n",
       "      <td>['4', '28', '244', '432']</td>\n",
       "      <td>2022-05-16</td>\n",
       "      <td>1515915625471138230-4437-6282242f27843</td>\n",
       "    </tr>\n",
       "    <tr>\n",
       "      <th>4</th>\n",
       "      <td>1515915625471138230</td>\n",
       "      <td>1</td>\n",
       "      <td>4999.0</td>\n",
       "      <td>['4', '28', '49', '413']</td>\n",
       "      <td>2022-05-16</td>\n",
       "      <td>1515915625471138230-4437-6282242f27843</td>\n",
       "    </tr>\n",
       "  </tbody>\n",
       "</table>\n",
       "</div>"
      ],
      "text/plain": [
       "             client_id  quantity   price               category_ids  \\\n",
       "0  1515915625468169594         1  1999.0   ['4', '28', '57', '431']   \n",
       "1  1515915625468169594         1  2499.0   ['4', '28', '57', '431']   \n",
       "2  1515915625471138230         1  6499.0   ['4', '28', '57', '431']   \n",
       "3  1515915625471138230         1  4999.0  ['4', '28', '244', '432']   \n",
       "4  1515915625471138230         1  4999.0   ['4', '28', '49', '413']   \n",
       "\n",
       "         date                              message_id  \n",
       "0  2022-05-16  1515915625468169594-4301-627b661e9736d  \n",
       "1  2022-05-16  1515915625468169594-4301-627b661e9736d  \n",
       "2  2022-05-16  1515915625471138230-4437-6282242f27843  \n",
       "3  2022-05-16  1515915625471138230-4437-6282242f27843  \n",
       "4  2022-05-16  1515915625471138230-4437-6282242f27843  "
      ]
     },
     "execution_count": 14,
     "metadata": {},
     "output_type": "execute_result"
    }
   ],
   "source": [
    "apparel_purchases.head()"
   ]
  },
  {
   "cell_type": "code",
   "execution_count": 15,
   "id": "cc1d6d2b-a424-43bd-bfb5-b9b39b04a962",
   "metadata": {},
   "outputs": [
    {
     "data": {
      "text/html": [
       "<div>\n",
       "<style scoped>\n",
       "    .dataframe tbody tr th:only-of-type {\n",
       "        vertical-align: middle;\n",
       "    }\n",
       "\n",
       "    .dataframe tbody tr th {\n",
       "        vertical-align: top;\n",
       "    }\n",
       "\n",
       "    .dataframe thead th {\n",
       "        text-align: right;\n",
       "    }\n",
       "</style>\n",
       "<table border=\"1\" class=\"dataframe\">\n",
       "  <thead>\n",
       "    <tr style=\"text-align: right;\">\n",
       "      <th></th>\n",
       "      <th>client_id</th>\n",
       "      <th>quantity</th>\n",
       "      <th>price</th>\n",
       "    </tr>\n",
       "  </thead>\n",
       "  <tbody>\n",
       "    <tr>\n",
       "      <th>count</th>\n",
       "      <td>2.022080e+05</td>\n",
       "      <td>202208.000000</td>\n",
       "      <td>202208.000000</td>\n",
       "    </tr>\n",
       "    <tr>\n",
       "      <th>mean</th>\n",
       "      <td>1.515916e+18</td>\n",
       "      <td>1.006483</td>\n",
       "      <td>1193.301516</td>\n",
       "    </tr>\n",
       "    <tr>\n",
       "      <th>std</th>\n",
       "      <td>1.459514e+08</td>\n",
       "      <td>0.184384</td>\n",
       "      <td>1342.252664</td>\n",
       "    </tr>\n",
       "    <tr>\n",
       "      <th>min</th>\n",
       "      <td>1.515916e+18</td>\n",
       "      <td>1.000000</td>\n",
       "      <td>1.000000</td>\n",
       "    </tr>\n",
       "    <tr>\n",
       "      <th>25%</th>\n",
       "      <td>1.515916e+18</td>\n",
       "      <td>1.000000</td>\n",
       "      <td>352.000000</td>\n",
       "    </tr>\n",
       "    <tr>\n",
       "      <th>50%</th>\n",
       "      <td>1.515916e+18</td>\n",
       "      <td>1.000000</td>\n",
       "      <td>987.000000</td>\n",
       "    </tr>\n",
       "    <tr>\n",
       "      <th>75%</th>\n",
       "      <td>1.515916e+18</td>\n",
       "      <td>1.000000</td>\n",
       "      <td>1699.000000</td>\n",
       "    </tr>\n",
       "    <tr>\n",
       "      <th>max</th>\n",
       "      <td>1.515916e+18</td>\n",
       "      <td>30.000000</td>\n",
       "      <td>85499.000000</td>\n",
       "    </tr>\n",
       "  </tbody>\n",
       "</table>\n",
       "</div>"
      ],
      "text/plain": [
       "          client_id       quantity          price\n",
       "count  2.022080e+05  202208.000000  202208.000000\n",
       "mean   1.515916e+18       1.006483    1193.301516\n",
       "std    1.459514e+08       0.184384    1342.252664\n",
       "min    1.515916e+18       1.000000       1.000000\n",
       "25%    1.515916e+18       1.000000     352.000000\n",
       "50%    1.515916e+18       1.000000     987.000000\n",
       "75%    1.515916e+18       1.000000    1699.000000\n",
       "max    1.515916e+18      30.000000   85499.000000"
      ]
     },
     "execution_count": 15,
     "metadata": {},
     "output_type": "execute_result"
    }
   ],
   "source": [
    "apparel_purchases.describe()"
   ]
  },
  {
   "cell_type": "code",
   "execution_count": 16,
   "id": "89dbd094-8edb-49df-a3ee-640ca80cd0ce",
   "metadata": {},
   "outputs": [
    {
     "name": "stdout",
     "output_type": "stream",
     "text": [
      "<class 'pandas.core.frame.DataFrame'>\n",
      "RangeIndex: 202208 entries, 0 to 202207\n",
      "Data columns (total 6 columns):\n",
      " #   Column        Non-Null Count   Dtype  \n",
      "---  ------        --------------   -----  \n",
      " 0   client_id     202208 non-null  int64  \n",
      " 1   quantity      202208 non-null  int64  \n",
      " 2   price         202208 non-null  float64\n",
      " 3   category_ids  202208 non-null  object \n",
      " 4   date          202208 non-null  object \n",
      " 5   message_id    202208 non-null  object \n",
      "dtypes: float64(1), int64(2), object(3)\n",
      "memory usage: 9.3+ MB\n"
     ]
    }
   ],
   "source": [
    "apparel_purchases.info()"
   ]
  },
  {
   "cell_type": "code",
   "execution_count": 17,
   "id": "835f4726-d8b5-423d-b9c3-900dc10385b8",
   "metadata": {},
   "outputs": [],
   "source": [
    "apparel_purchases['date'] = pd.to_datetime(apparel_purchases['date'])"
   ]
  },
  {
   "cell_type": "code",
   "execution_count": 18,
   "id": "e6bc9e95-51d6-4895-9bd2-d74fca169d99",
   "metadata": {},
   "outputs": [
    {
     "name": "stdout",
     "output_type": "stream",
     "text": [
      "quantity\n",
      "1     201323\n",
      "2        751\n",
      "3         94\n",
      "4         12\n",
      "5          3\n",
      "6          5\n",
      "7          1\n",
      "8          1\n",
      "9          2\n",
      "10         4\n",
      "13         1\n",
      "15         3\n",
      "18         1\n",
      "20         3\n",
      "25         2\n",
      "30         2\n",
      "Name: count, dtype: int64\n"
     ]
    }
   ],
   "source": [
    "quantity_distribution = apparel_purchases['quantity'].value_counts().sort_index()\n",
    "\n",
    "# Вывод распределения\n",
    "print(quantity_distribution)"
   ]
  },
  {
   "cell_type": "code",
   "execution_count": 19,
   "id": "bdb0924b-1645-4ce0-9a5b-1d27a4ff3864",
   "metadata": {},
   "outputs": [
    {
     "name": "stdout",
     "output_type": "stream",
     "text": [
      "Количество полных дубликатов: 73020\n"
     ]
    }
   ],
   "source": [
    "client_date_duplicates = apparel_purchases.duplicated().sum()\n",
    "print(f\"Количество полных дубликатов: {client_date_duplicates}\")"
   ]
  },
  {
   "cell_type": "code",
   "execution_count": 20,
   "id": "97aca84e-d890-4be2-a775-b3f2ac301991",
   "metadata": {},
   "outputs": [
    {
     "name": "stdout",
     "output_type": "stream",
     "text": [
      "              client_id  quantity   price                     category_ids  \\\n",
      "11  1515915625491869271         2   599.0       ['4', '27', '350', '1392']   \n",
      "12  1515915625491869271         2   599.0       ['4', '27', '350', '1392']   \n",
      "21  1515915625566606509         1   299.0  ['5562', '5634', '5579', '710']   \n",
      "22  1515915625566606509         1   299.0  ['5562', '5634', '5579', '710']   \n",
      "41  1515915625468070175         1  2199.0        ['4', '27', '142', '496']   \n",
      "42  1515915625468070175         1  2199.0        ['4', '27', '142', '496']   \n",
      "58  1515915625468126078         1  1499.0        ['4', '28', '275', '421']   \n",
      "59  1515915625468126078         1  1499.0        ['4', '28', '275', '421']   \n",
      "61  1515915625468141317         1    49.0         ['4', '27', '38', '481']   \n",
      "62  1515915625468141317         1    49.0         ['4', '27', '38', '481']   \n",
      "\n",
      "         date                              message_id  \n",
      "11 2022-05-16  1515915625491869271-2090-61a72488d6a0f  \n",
      "12 2022-05-16  1515915625491869271-2090-61a72488d6a0f  \n",
      "21 2022-05-16  1515915625566606509-4301-627b66245401d  \n",
      "22 2022-05-16  1515915625566606509-4301-627b66245401d  \n",
      "41 2022-05-17  1515915625468070175-4439-6283414668daa  \n",
      "42 2022-05-17  1515915625468070175-4439-6283414668daa  \n",
      "58 2022-05-17  1515915625468126078-4439-6283411f7c0cc  \n",
      "59 2022-05-17  1515915625468126078-4439-6283411f7c0cc  \n",
      "61 2022-05-17  1515915625468141317-4439-6283412e01078  \n",
      "62 2022-05-17  1515915625468141317-4439-6283412e01078  \n"
     ]
    }
   ],
   "source": [
    "# Шаг 1: Найти полные дубликаты\n",
    "duplicates = apparel_purchases[apparel_purchases.duplicated(keep=False)]  # keep=False, чтобы отобразить все дубликаты\n",
    "\n",
    "# Выводим примерные дубликаты\n",
    "print(duplicates.head(10))"
   ]
  },
  {
   "cell_type": "code",
   "execution_count": 21,
   "id": "e1219051-2d62-4ae3-b997-dfa2cee50b27",
   "metadata": {},
   "outputs": [
    {
     "name": "stdout",
     "output_type": "stream",
     "text": [
      "             client_id                 category_ids       date  quantity  \\\n",
      "0  1515915625468060902    ['4', '27', '176', '458'] 2022-05-27         2   \n",
      "1  1515915625468060902  ['4', '27', '1828', '1599'] 2022-05-27         1   \n",
      "2  1515915625468060902    ['4', '28', '244', '432'] 2022-05-27         1   \n",
      "3  1515915625468060902    ['4', '28', '260', '420'] 2022-05-27         2   \n",
      "4  1515915625468060902    ['4', '28', '290', '422'] 2022-05-27         1   \n",
      "\n",
      "    price  \n",
      "0   199.0  \n",
      "1  1299.0  \n",
      "2   999.0  \n",
      "3  1999.0  \n",
      "4   299.0  \n"
     ]
    }
   ],
   "source": [
    "# Группируем данные по client_id, category_ids и date\n",
    "grouped_data = apparel_purchases.groupby(['client_id', 'category_ids', 'date']).agg({\n",
    "    'quantity': 'sum',\n",
    "    'price': 'mean'  # Можно использовать среднюю цену или другую метрику\n",
    "}).reset_index()\n",
    "\n",
    "# Выводим результат агрегирования\n",
    "print(grouped_data.head())"
   ]
  },
  {
   "cell_type": "code",
   "execution_count": null,
   "id": "141bfdb6-3172-45dd-a4e9-f09411e0bced",
   "metadata": {},
   "outputs": [],
   "source": [
    "# Шаг 2: у одинаковых товаров должна быть одинаковая цена\n",
    "\n",
    "grouped_duplicates = duplicates.groupby('price').size().reset_index(name='count')\n",
    "# Группируем данные по client_id, category_ids и date\n",
    "grouped_data = apparel_purchases.groupby(['client_id', 'category_ids', 'date']).agg({\n",
    "    'quantity': 'sum',\n",
    "    'price': 'mean' \n",
    "}).reset_index()"
   ]
  },
  {
   "cell_type": "code",
   "execution_count": null,
   "id": "2ba06bcb-f3e7-4aba-8d21-5a1f6cdf3c28",
   "metadata": {},
   "outputs": [],
   "source": [
    "duplicates = grouped_data[grouped_data.duplicated(keep=False)]  # keep=False, чтобы отобразить все дубликаты\n",
    "\n",
    "# Выводим примерные дубликаты\n",
    "print(duplicates.head(10))"
   ]
  },
  {
   "cell_type": "code",
   "execution_count": null,
   "id": "d0422ab5-5470-434b-8a0b-945064d8bd84",
   "metadata": {},
   "outputs": [],
   "source": [
    "# Применяем агрегацию на основной датафрейм \n",
    "apparel_purchases = apparel_purchases.groupby(['client_id', 'category_ids', 'date']).agg({\n",
    "    'quantity': 'sum',  # Суммируем количество товаров\n",
    "    'price': 'mean'     # Берем среднее значение цены (если цена одинакова, средняя останется такой же)\n",
    "}).reset_index()\n",
    "\n",
    "# Проверяем, как выглядит агрегированный датафрейм\n",
    "print(apparel_purchases.head(20))"
   ]
  },
  {
   "cell_type": "code",
   "execution_count": 22,
   "id": "bd60bbd9-1376-4260-a31e-b00343a6dfec",
   "metadata": {},
   "outputs": [
    {
     "name": "stdout",
     "output_type": "stream",
     "text": [
      "Количество полных дубликатов: 73020\n"
     ]
    }
   ],
   "source": [
    "apparel_purchases_duplicates = apparel_purchases.duplicated().sum()\n",
    "print(f\"Количество полных дубликатов: {apparel_purchases_duplicates}\")"
   ]
  },
  {
   "cell_type": "code",
   "execution_count": 24,
   "id": "cf64b0e8-3d1a-46f9-b0d8-6e7ad8c04a94",
   "metadata": {},
   "outputs": [
    {
     "name": "stdout",
     "output_type": "stream",
     "text": [
      "Количество пропущенных значений: client_id       0\n",
      "quantity        0\n",
      "price           0\n",
      "category_ids    0\n",
      "date            0\n",
      "message_id      0\n",
      "dtype: int64\n"
     ]
    }
   ],
   "source": [
    "print(\"Количество пропущенных значений:\", apparel_purchases.isnull().sum())"
   ]
  },
  {
   "cell_type": "code",
   "execution_count": 25,
   "id": "f2f3933a-843c-4409-a531-9a0ba9675a48",
   "metadata": {},
   "outputs": [
    {
     "data": {
      "text/plain": [
       "client_id       49849\n",
       "quantity           16\n",
       "price            3642\n",
       "category_ids      933\n",
       "date              642\n",
       "message_id      50204\n",
       "dtype: int64"
      ]
     },
     "execution_count": 25,
     "metadata": {},
     "output_type": "execute_result"
    }
   ],
   "source": [
    "apparel_purchases.nunique()"
   ]
  },
  {
   "cell_type": "code",
   "execution_count": 26,
   "id": "92e6ec8f-244d-4a41-b000-2f94b1ec45c8",
   "metadata": {},
   "outputs": [
    {
     "data": {
      "text/html": [
       "<div>\n",
       "<style scoped>\n",
       "    .dataframe tbody tr th:only-of-type {\n",
       "        vertical-align: middle;\n",
       "    }\n",
       "\n",
       "    .dataframe tbody tr th {\n",
       "        vertical-align: top;\n",
       "    }\n",
       "\n",
       "    .dataframe thead th {\n",
       "        text-align: right;\n",
       "    }\n",
       "</style>\n",
       "<table border=\"1\" class=\"dataframe\">\n",
       "  <thead>\n",
       "    <tr style=\"text-align: right;\">\n",
       "      <th></th>\n",
       "      <th>client_id</th>\n",
       "      <th>quantity</th>\n",
       "      <th>price</th>\n",
       "      <th>category_ids</th>\n",
       "      <th>date</th>\n",
       "      <th>message_id</th>\n",
       "    </tr>\n",
       "  </thead>\n",
       "  <tbody>\n",
       "    <tr>\n",
       "      <th>0</th>\n",
       "      <td>1515915625468169594</td>\n",
       "      <td>1</td>\n",
       "      <td>1999.0</td>\n",
       "      <td>['4', '28', '57', '431']</td>\n",
       "      <td>2022-05-16</td>\n",
       "      <td>1515915625468169594-4301-627b661e9736d</td>\n",
       "    </tr>\n",
       "    <tr>\n",
       "      <th>1</th>\n",
       "      <td>1515915625468169594</td>\n",
       "      <td>1</td>\n",
       "      <td>2499.0</td>\n",
       "      <td>['4', '28', '57', '431']</td>\n",
       "      <td>2022-05-16</td>\n",
       "      <td>1515915625468169594-4301-627b661e9736d</td>\n",
       "    </tr>\n",
       "    <tr>\n",
       "      <th>2</th>\n",
       "      <td>1515915625471138230</td>\n",
       "      <td>1</td>\n",
       "      <td>6499.0</td>\n",
       "      <td>['4', '28', '57', '431']</td>\n",
       "      <td>2022-05-16</td>\n",
       "      <td>1515915625471138230-4437-6282242f27843</td>\n",
       "    </tr>\n",
       "    <tr>\n",
       "      <th>3</th>\n",
       "      <td>1515915625471138230</td>\n",
       "      <td>1</td>\n",
       "      <td>4999.0</td>\n",
       "      <td>['4', '28', '244', '432']</td>\n",
       "      <td>2022-05-16</td>\n",
       "      <td>1515915625471138230-4437-6282242f27843</td>\n",
       "    </tr>\n",
       "    <tr>\n",
       "      <th>4</th>\n",
       "      <td>1515915625471138230</td>\n",
       "      <td>1</td>\n",
       "      <td>4999.0</td>\n",
       "      <td>['4', '28', '49', '413']</td>\n",
       "      <td>2022-05-16</td>\n",
       "      <td>1515915625471138230-4437-6282242f27843</td>\n",
       "    </tr>\n",
       "    <tr>\n",
       "      <th>...</th>\n",
       "      <td>...</td>\n",
       "      <td>...</td>\n",
       "      <td>...</td>\n",
       "      <td>...</td>\n",
       "      <td>...</td>\n",
       "      <td>...</td>\n",
       "    </tr>\n",
       "    <tr>\n",
       "      <th>202196</th>\n",
       "      <td>1515915626010221592</td>\n",
       "      <td>1</td>\n",
       "      <td>1499.0</td>\n",
       "      <td>['4', '28', '260', '1194']</td>\n",
       "      <td>2024-02-16</td>\n",
       "      <td>1515915626010221592-14664-65cf1622434a9</td>\n",
       "    </tr>\n",
       "    <tr>\n",
       "      <th>202198</th>\n",
       "      <td>1515915626010261344</td>\n",
       "      <td>1</td>\n",
       "      <td>1499.0</td>\n",
       "      <td>['2', '18', '212', '726']</td>\n",
       "      <td>2024-02-16</td>\n",
       "      <td>1515915626010261344-14648-65cdb6d56c4c8</td>\n",
       "    </tr>\n",
       "    <tr>\n",
       "      <th>202204</th>\n",
       "      <td>1515915626010439406</td>\n",
       "      <td>1</td>\n",
       "      <td>99.0</td>\n",
       "      <td>['4', '27', '233', '462']</td>\n",
       "      <td>2024-02-16</td>\n",
       "      <td>1515915625776605028-14662-65cf3abfe4f0d</td>\n",
       "    </tr>\n",
       "    <tr>\n",
       "      <th>202206</th>\n",
       "      <td>1515915626010443527</td>\n",
       "      <td>1</td>\n",
       "      <td>1999.0</td>\n",
       "      <td>['2', '18', '274', '446']</td>\n",
       "      <td>2024-02-16</td>\n",
       "      <td>1515915625766077627-14668-65cf5246bd490</td>\n",
       "    </tr>\n",
       "    <tr>\n",
       "      <th>202207</th>\n",
       "      <td>1515915626010443624</td>\n",
       "      <td>1</td>\n",
       "      <td>999.0</td>\n",
       "      <td>['4', '28', '62', '656']</td>\n",
       "      <td>2024-02-16</td>\n",
       "      <td>1515915625488468007-14668-65cf5234b1295</td>\n",
       "    </tr>\n",
       "  </tbody>\n",
       "</table>\n",
       "<p>129188 rows × 6 columns</p>\n",
       "</div>"
      ],
      "text/plain": [
       "                  client_id  quantity   price                category_ids  \\\n",
       "0       1515915625468169594         1  1999.0    ['4', '28', '57', '431']   \n",
       "1       1515915625468169594         1  2499.0    ['4', '28', '57', '431']   \n",
       "2       1515915625471138230         1  6499.0    ['4', '28', '57', '431']   \n",
       "3       1515915625471138230         1  4999.0   ['4', '28', '244', '432']   \n",
       "4       1515915625471138230         1  4999.0    ['4', '28', '49', '413']   \n",
       "...                     ...       ...     ...                         ...   \n",
       "202196  1515915626010221592         1  1499.0  ['4', '28', '260', '1194']   \n",
       "202198  1515915626010261344         1  1499.0   ['2', '18', '212', '726']   \n",
       "202204  1515915626010439406         1    99.0   ['4', '27', '233', '462']   \n",
       "202206  1515915626010443527         1  1999.0   ['2', '18', '274', '446']   \n",
       "202207  1515915626010443624         1   999.0    ['4', '28', '62', '656']   \n",
       "\n",
       "             date                               message_id  \n",
       "0      2022-05-16   1515915625468169594-4301-627b661e9736d  \n",
       "1      2022-05-16   1515915625468169594-4301-627b661e9736d  \n",
       "2      2022-05-16   1515915625471138230-4437-6282242f27843  \n",
       "3      2022-05-16   1515915625471138230-4437-6282242f27843  \n",
       "4      2022-05-16   1515915625471138230-4437-6282242f27843  \n",
       "...           ...                                      ...  \n",
       "202196 2024-02-16  1515915626010221592-14664-65cf1622434a9  \n",
       "202198 2024-02-16  1515915626010261344-14648-65cdb6d56c4c8  \n",
       "202204 2024-02-16  1515915625776605028-14662-65cf3abfe4f0d  \n",
       "202206 2024-02-16  1515915625766077627-14668-65cf5246bd490  \n",
       "202207 2024-02-16  1515915625488468007-14668-65cf5234b1295  \n",
       "\n",
       "[129188 rows x 6 columns]"
      ]
     },
     "execution_count": 26,
     "metadata": {},
     "output_type": "execute_result"
    }
   ],
   "source": [
    "apparel_purchases"
   ]
  },
  {
   "cell_type": "code",
   "execution_count": 27,
   "id": "d36c4480-72ae-4789-a748-91c116e6a3d7",
   "metadata": {},
   "outputs": [
    {
     "name": "stdout",
     "output_type": "stream",
     "text": [
      "Empty DataFrame\n",
      "Columns: [client_id, quantity, price, category_ids, date, message_id]\n",
      "Index: []\n",
      "Количество товаров с ценой 0: 0\n"
     ]
    }
   ],
   "source": [
    "# Находим товары с ценой 0\n",
    "zero_price_items = apparel_purchases[apparel_purchases['price'] == 0]\n",
    "\n",
    "# Выводим результат\n",
    "print(zero_price_items)\n",
    "\n",
    "# Количество таких товаров\n",
    "print(f'Количество товаров с ценой 0: {len(zero_price_items)}')"
   ]
  },
  {
   "cell_type": "code",
   "execution_count": 28,
   "id": "53ee31e3-4b59-459b-8cff-72e9d8de0c05",
   "metadata": {},
   "outputs": [
    {
     "name": "stdout",
     "output_type": "stream",
     "text": [
      "[<class 'str'>]\n"
     ]
    }
   ],
   "source": [
    "# Проверим тип данных в столбце 'category_ids'\n",
    "print(apparel_purchases['category_ids'].apply(type).unique())"
   ]
  },
  {
   "cell_type": "code",
   "execution_count": 29,
   "id": "46c764a8-4053-46b4-b9fb-05cd0add955a",
   "metadata": {},
   "outputs": [
    {
     "name": "stdout",
     "output_type": "stream",
     "text": [
      "                  client_id  quantity  price category_ids       date  \\\n",
      "22153   1515915625558323436         1    1.0           [] 2022-07-09   \n",
      "49215   1515915625474537721         1    7.0           [] 2022-11-12   \n",
      "53223   1515915625720375281         1    5.0           [] 2022-11-13   \n",
      "59056   1515915625867975448         1    7.0           [] 2022-11-16   \n",
      "60268   1515915625489294901         1    7.0           [] 2022-11-23   \n",
      "...                     ...       ...    ...          ...        ...   \n",
      "201914  1515915625578473908         1    4.0           [] 2024-02-16   \n",
      "201964  1515915625584667457         1    7.0           [] 2024-02-16   \n",
      "201989  1515915625641742458         1    7.0           [] 2024-02-16   \n",
      "202068  1515915625955716904         1    7.0           [] 2024-02-16   \n",
      "202144  1515915626007712189         1   12.0           [] 2024-02-16   \n",
      "\n",
      "                                     message_id  \n",
      "22153    1515915625487742246-5335-62c7d2d1281c7  \n",
      "49215    1515915625474537721-7803-636dfed5eb8b6  \n",
      "53223    1515915625720375281-7818-636f6ec29a382  \n",
      "59056    1515915625766044118-7879-63748749d81b5  \n",
      "60268    1515915625489294901-8033-637dbe1f75aa9  \n",
      "...                                         ...  \n",
      "201914  1515915625578473908-14656-65cdbeaa81cf6  \n",
      "201964  1515915625584667457-14661-65cf01403a960  \n",
      "201989  1515915625766077627-14668-65cf5246bd490  \n",
      "202068  1515915625955716904-14668-65cf5252e767c  \n",
      "202144  1515915626007712189-14648-65cdb6d1c0c2a  \n",
      "\n",
      "[2738 rows x 6 columns]\n"
     ]
    }
   ],
   "source": [
    "# Выводим строки, где 'category_ids' равен '[]'\n",
    "empty_category_rows = apparel_purchases[apparel_purchases['category_ids'] == '[]']\n",
    "print(empty_category_rows)"
   ]
  },
  {
   "cell_type": "code",
   "execution_count": 30,
   "id": "5333acd3-1cc1-4d37-baa4-a53c4c0f0675",
   "metadata": {},
   "outputs": [],
   "source": [
    "# Убираем строки, где есть '[]'\n",
    "apparel_purchases = apparel_purchases[apparel_purchases['category_ids'] != '[]']"
   ]
  },
  {
   "cell_type": "code",
   "execution_count": 31,
   "id": "a6286131-c517-45d8-bcf5-298049f5eb1d",
   "metadata": {},
   "outputs": [
    {
     "name": "stdout",
     "output_type": "stream",
     "text": [
      "<class 'pandas.core.frame.DataFrame'>\n",
      "Index: 126450 entries, 0 to 202207\n",
      "Data columns (total 6 columns):\n",
      " #   Column        Non-Null Count   Dtype         \n",
      "---  ------        --------------   -----         \n",
      " 0   client_id     126450 non-null  int64         \n",
      " 1   quantity      126450 non-null  int64         \n",
      " 2   price         126450 non-null  float64       \n",
      " 3   category_ids  126450 non-null  object        \n",
      " 4   date          126450 non-null  datetime64[ns]\n",
      " 5   message_id    126450 non-null  object        \n",
      "dtypes: datetime64[ns](1), float64(1), int64(2), object(2)\n",
      "memory usage: 6.8+ MB\n"
     ]
    }
   ],
   "source": [
    "apparel_purchases.info()"
   ]
  },
  {
   "cell_type": "code",
   "execution_count": 32,
   "id": "b9ea3717-da39-40b7-a672-83318403ca3c",
   "metadata": {},
   "outputs": [
    {
     "data": {
      "text/plain": [
       "49848"
      ]
     },
     "execution_count": 32,
     "metadata": {},
     "output_type": "execute_result"
    }
   ],
   "source": [
    "apparel_purchases['client_id'].nunique()"
   ]
  },
  {
   "cell_type": "code",
   "execution_count": 33,
   "id": "7af0cb5f-dfc4-4a6b-8045-356c254a52a7",
   "metadata": {},
   "outputs": [
    {
     "name": "stderr",
     "output_type": "stream",
     "text": [
      "C:\\Users\\LENOVO\\AppData\\Local\\Temp\\ipykernel_14856\\3057157645.py:2: SettingWithCopyWarning: \n",
      "A value is trying to be set on a copy of a slice from a DataFrame.\n",
      "Try using .loc[row_indexer,col_indexer] = value instead\n",
      "\n",
      "See the caveats in the documentation: https://pandas.pydata.org/pandas-docs/stable/user_guide/indexing.html#returning-a-view-versus-a-copy\n",
      "  apparel_purchases['category_str'] = apparel_purchases['category_ids'].apply(lambda x: ' '.join(x))\n",
      "C:\\Users\\LENOVO\\anaconda3\\Lib\\site-packages\\sklearn\\feature_extraction\\text.py:521: UserWarning: The parameter 'token_pattern' will not be used since 'tokenizer' is not None'\n",
      "  warnings.warn(\n"
     ]
    },
    {
     "name": "stdout",
     "output_type": "stream",
     "text": [
      "cluster\n",
      "1    24194\n",
      "0    20711\n",
      "4    15636\n",
      "5    13083\n",
      "3    12084\n",
      "9    11064\n",
      "2     9123\n",
      "7     8977\n",
      "6     8171\n",
      "8     3407\n",
      "Name: count, dtype: int64\n"
     ]
    },
    {
     "name": "stderr",
     "output_type": "stream",
     "text": [
      "C:\\Users\\LENOVO\\AppData\\Local\\Temp\\ipykernel_14856\\3057157645.py:13: SettingWithCopyWarning: \n",
      "A value is trying to be set on a copy of a slice from a DataFrame.\n",
      "Try using .loc[row_indexer,col_indexer] = value instead\n",
      "\n",
      "See the caveats in the documentation: https://pandas.pydata.org/pandas-docs/stable/user_guide/indexing.html#returning-a-view-versus-a-copy\n",
      "  apparel_purchases['cluster'] = kmeans.labels_\n"
     ]
    }
   ],
   "source": [
    "# Шаг 1: Преобразуем списки категорий в строки для использования CountVectorizer\n",
    "apparel_purchases['category_str'] = apparel_purchases['category_ids'].apply(lambda x: ' '.join(x))\n",
    "\n",
    "# Шаг 2: Создаем бинарную матрицу для категорий\n",
    "vectorizer = CountVectorizer(tokenizer=lambda x: x.split(), binary=True)\n",
    "X = vectorizer.fit_transform(apparel_purchases['category_str'])\n",
    "\n",
    "# Применяем MiniBatchKMeans для кластеризации\n",
    "kmeans = MiniBatchKMeans(n_clusters=10, random_state=42, batch_size=1000)\n",
    "kmeans.fit(X)\n",
    "\n",
    "# Добавляем результаты кластеризации в датафрейм\n",
    "apparel_purchases['cluster'] = kmeans.labels_\n",
    "print(apparel_purchases['cluster'].value_counts())"
   ]
  },
  {
   "cell_type": "code",
   "execution_count": 34,
   "id": "a2705008-f105-400f-8240-78ec5042b4f6",
   "metadata": {},
   "outputs": [
    {
     "data": {
      "text/html": [
       "<div>\n",
       "<style scoped>\n",
       "    .dataframe tbody tr th:only-of-type {\n",
       "        vertical-align: middle;\n",
       "    }\n",
       "\n",
       "    .dataframe tbody tr th {\n",
       "        vertical-align: top;\n",
       "    }\n",
       "\n",
       "    .dataframe thead th {\n",
       "        text-align: right;\n",
       "    }\n",
       "</style>\n",
       "<table border=\"1\" class=\"dataframe\">\n",
       "  <thead>\n",
       "    <tr style=\"text-align: right;\">\n",
       "      <th></th>\n",
       "      <th>client_id</th>\n",
       "      <th>quantity</th>\n",
       "      <th>price</th>\n",
       "      <th>category_ids</th>\n",
       "      <th>date</th>\n",
       "      <th>message_id</th>\n",
       "      <th>category_str</th>\n",
       "      <th>cluster</th>\n",
       "    </tr>\n",
       "  </thead>\n",
       "  <tbody>\n",
       "    <tr>\n",
       "      <th>0</th>\n",
       "      <td>1515915625468169594</td>\n",
       "      <td>1</td>\n",
       "      <td>1999.0</td>\n",
       "      <td>['4', '28', '57', '431']</td>\n",
       "      <td>2022-05-16</td>\n",
       "      <td>1515915625468169594-4301-627b661e9736d</td>\n",
       "      <td>[ ' 4 ' ,   ' 2 8 ' ,   ' 5 7 ' ,   ' 4 3 1 ' ]</td>\n",
       "      <td>4</td>\n",
       "    </tr>\n",
       "    <tr>\n",
       "      <th>1</th>\n",
       "      <td>1515915625468169594</td>\n",
       "      <td>1</td>\n",
       "      <td>2499.0</td>\n",
       "      <td>['4', '28', '57', '431']</td>\n",
       "      <td>2022-05-16</td>\n",
       "      <td>1515915625468169594-4301-627b661e9736d</td>\n",
       "      <td>[ ' 4 ' ,   ' 2 8 ' ,   ' 5 7 ' ,   ' 4 3 1 ' ]</td>\n",
       "      <td>4</td>\n",
       "    </tr>\n",
       "    <tr>\n",
       "      <th>2</th>\n",
       "      <td>1515915625471138230</td>\n",
       "      <td>1</td>\n",
       "      <td>6499.0</td>\n",
       "      <td>['4', '28', '57', '431']</td>\n",
       "      <td>2022-05-16</td>\n",
       "      <td>1515915625471138230-4437-6282242f27843</td>\n",
       "      <td>[ ' 4 ' ,   ' 2 8 ' ,   ' 5 7 ' ,   ' 4 3 1 ' ]</td>\n",
       "      <td>4</td>\n",
       "    </tr>\n",
       "    <tr>\n",
       "      <th>3</th>\n",
       "      <td>1515915625471138230</td>\n",
       "      <td>1</td>\n",
       "      <td>4999.0</td>\n",
       "      <td>['4', '28', '244', '432']</td>\n",
       "      <td>2022-05-16</td>\n",
       "      <td>1515915625471138230-4437-6282242f27843</td>\n",
       "      <td>[ ' 4 ' ,   ' 2 8 ' ,   ' 2 4 4 ' ,   ' 4 3 2 ' ]</td>\n",
       "      <td>1</td>\n",
       "    </tr>\n",
       "    <tr>\n",
       "      <th>4</th>\n",
       "      <td>1515915625471138230</td>\n",
       "      <td>1</td>\n",
       "      <td>4999.0</td>\n",
       "      <td>['4', '28', '49', '413']</td>\n",
       "      <td>2022-05-16</td>\n",
       "      <td>1515915625471138230-4437-6282242f27843</td>\n",
       "      <td>[ ' 4 ' ,   ' 2 8 ' ,   ' 4 9 ' ,   ' 4 1 3 ' ]</td>\n",
       "      <td>1</td>\n",
       "    </tr>\n",
       "  </tbody>\n",
       "</table>\n",
       "</div>"
      ],
      "text/plain": [
       "             client_id  quantity   price               category_ids  \\\n",
       "0  1515915625468169594         1  1999.0   ['4', '28', '57', '431']   \n",
       "1  1515915625468169594         1  2499.0   ['4', '28', '57', '431']   \n",
       "2  1515915625471138230         1  6499.0   ['4', '28', '57', '431']   \n",
       "3  1515915625471138230         1  4999.0  ['4', '28', '244', '432']   \n",
       "4  1515915625471138230         1  4999.0   ['4', '28', '49', '413']   \n",
       "\n",
       "        date                              message_id  \\\n",
       "0 2022-05-16  1515915625468169594-4301-627b661e9736d   \n",
       "1 2022-05-16  1515915625468169594-4301-627b661e9736d   \n",
       "2 2022-05-16  1515915625471138230-4437-6282242f27843   \n",
       "3 2022-05-16  1515915625471138230-4437-6282242f27843   \n",
       "4 2022-05-16  1515915625471138230-4437-6282242f27843   \n",
       "\n",
       "                                        category_str  cluster  \n",
       "0    [ ' 4 ' ,   ' 2 8 ' ,   ' 5 7 ' ,   ' 4 3 1 ' ]        4  \n",
       "1    [ ' 4 ' ,   ' 2 8 ' ,   ' 5 7 ' ,   ' 4 3 1 ' ]        4  \n",
       "2    [ ' 4 ' ,   ' 2 8 ' ,   ' 5 7 ' ,   ' 4 3 1 ' ]        4  \n",
       "3  [ ' 4 ' ,   ' 2 8 ' ,   ' 2 4 4 ' ,   ' 4 3 2 ' ]        1  \n",
       "4    [ ' 4 ' ,   ' 2 8 ' ,   ' 4 9 ' ,   ' 4 1 3 ' ]        1  "
      ]
     },
     "execution_count": 34,
     "metadata": {},
     "output_type": "execute_result"
    }
   ],
   "source": [
    "apparel_purchases.head()"
   ]
  },
  {
   "cell_type": "markdown",
   "id": "a5553b83-b9fc-4a65-b4a1-406600d4d8e9",
   "metadata": {},
   "source": [
    "### target"
   ]
  },
  {
   "cell_type": "code",
   "execution_count": 36,
   "id": "7cc36c35-87d0-41f6-a1f5-6e2968e9b9af",
   "metadata": {},
   "outputs": [
    {
     "data": {
      "text/html": [
       "<div>\n",
       "<style scoped>\n",
       "    .dataframe tbody tr th:only-of-type {\n",
       "        vertical-align: middle;\n",
       "    }\n",
       "\n",
       "    .dataframe tbody tr th {\n",
       "        vertical-align: top;\n",
       "    }\n",
       "\n",
       "    .dataframe thead th {\n",
       "        text-align: right;\n",
       "    }\n",
       "</style>\n",
       "<table border=\"1\" class=\"dataframe\">\n",
       "  <thead>\n",
       "    <tr style=\"text-align: right;\">\n",
       "      <th></th>\n",
       "      <th>client_id</th>\n",
       "      <th>target</th>\n",
       "    </tr>\n",
       "  </thead>\n",
       "  <tbody>\n",
       "    <tr>\n",
       "      <th>0</th>\n",
       "      <td>1515915625468060902</td>\n",
       "      <td>0</td>\n",
       "    </tr>\n",
       "    <tr>\n",
       "      <th>1</th>\n",
       "      <td>1515915625468061003</td>\n",
       "      <td>1</td>\n",
       "    </tr>\n",
       "    <tr>\n",
       "      <th>2</th>\n",
       "      <td>1515915625468061099</td>\n",
       "      <td>0</td>\n",
       "    </tr>\n",
       "    <tr>\n",
       "      <th>3</th>\n",
       "      <td>1515915625468061100</td>\n",
       "      <td>0</td>\n",
       "    </tr>\n",
       "    <tr>\n",
       "      <th>4</th>\n",
       "      <td>1515915625468061170</td>\n",
       "      <td>0</td>\n",
       "    </tr>\n",
       "  </tbody>\n",
       "</table>\n",
       "</div>"
      ],
      "text/plain": [
       "             client_id  target\n",
       "0  1515915625468060902       0\n",
       "1  1515915625468061003       1\n",
       "2  1515915625468061099       0\n",
       "3  1515915625468061100       0\n",
       "4  1515915625468061170       0"
      ]
     },
     "execution_count": 36,
     "metadata": {},
     "output_type": "execute_result"
    }
   ],
   "source": [
    "apparel_target_binary.head()"
   ]
  },
  {
   "cell_type": "code",
   "execution_count": 37,
   "id": "81c9b932-84e7-4098-80e1-e2dbd31114cc",
   "metadata": {},
   "outputs": [
    {
     "name": "stdout",
     "output_type": "stream",
     "text": [
      "<class 'pandas.core.frame.DataFrame'>\n",
      "RangeIndex: 49849 entries, 0 to 49848\n",
      "Data columns (total 2 columns):\n",
      " #   Column     Non-Null Count  Dtype\n",
      "---  ------     --------------  -----\n",
      " 0   client_id  49849 non-null  int64\n",
      " 1   target     49849 non-null  int64\n",
      "dtypes: int64(2)\n",
      "memory usage: 779.0 KB\n"
     ]
    }
   ],
   "source": [
    "apparel_target_binary.info()"
   ]
  },
  {
   "cell_type": "code",
   "execution_count": 38,
   "id": "b4a5a2cb-5ea3-48fa-8691-299fa8cfe458",
   "metadata": {},
   "outputs": [
    {
     "data": {
      "text/plain": [
       "49849"
      ]
     },
     "execution_count": 38,
     "metadata": {},
     "output_type": "execute_result"
    }
   ],
   "source": [
    "apparel_target_binary['client_id'].nunique()"
   ]
  },
  {
   "cell_type": "code",
   "execution_count": 39,
   "id": "18622769-f57c-4d88-b127-ae39356947b8",
   "metadata": {},
   "outputs": [
    {
     "name": "stdout",
     "output_type": "stream",
     "text": [
      "Количество общих клиентов: 49848\n",
      "Клиентов только в покупках: 0\n",
      "Клиентов только в целевой таблице: 1\n",
      "Примеры клиентов только в покупках: []\n",
      "Примеры клиентов только в целевой таблице: [1515915625560295126]\n"
     ]
    }
   ],
   "source": [
    "# Извлекаем уникальные client_id из обеих таблиц\n",
    "unique_clients_purchases = set(apparel_purchases['client_id'].unique())\n",
    "unique_clients_target = set(apparel_target_binary['client_id'].unique())\n",
    "\n",
    "# Проверяем, есть ли клиенты, которые присутствуют в обеих таблицах\n",
    "common_clients = unique_clients_purchases.intersection(unique_clients_target)\n",
    "print(f'Количество общих клиентов: {len(common_clients)}')\n",
    "\n",
    "# Проверяем, есть ли клиенты, которые есть в покупках, но отсутствуют в целевой таблице\n",
    "clients_only_in_purchases = unique_clients_purchases.difference(unique_clients_target)\n",
    "print(f'Клиентов только в покупках: {len(clients_only_in_purchases)}')\n",
    "\n",
    "# Проверяем, есть ли клиенты, которые есть в целевой таблице, но отсутствуют в покупках\n",
    "clients_only_in_target = unique_clients_target.difference(unique_clients_purchases)\n",
    "print(f'Клиентов только в целевой таблице: {len(clients_only_in_target)}')\n",
    "\n",
    "# Выводим примеры клиентов\n",
    "print(\"Примеры клиентов только в покупках:\", list(clients_only_in_purchases)[:5])\n",
    "print(\"Примеры клиентов только в целевой таблице:\", list(clients_only_in_target)[:5])"
   ]
  },
  {
   "cell_type": "markdown",
   "id": "ecb96b13-ff7c-4ba6-94d3-1eb7ff3ef221",
   "metadata": {},
   "source": [
    "Стоит задача проверить будет ли повторная покупка, поэтому необходимо проверить соответсвуют ли client_id"
   ]
  },
  {
   "cell_type": "markdown",
   "id": "030b1fc8-f58c-442f-85e0-63680cd499b7",
   "metadata": {},
   "source": [
    "### apparel_messages"
   ]
  },
  {
   "cell_type": "code",
   "execution_count": 42,
   "id": "64d71345-55bc-4f9f-bc09-4c15afd65968",
   "metadata": {},
   "outputs": [
    {
     "name": "stdout",
     "output_type": "stream",
     "text": [
      "<class 'pandas.core.frame.DataFrame'>\n",
      "RangeIndex: 12739798 entries, 0 to 12739797\n",
      "Data columns (total 7 columns):\n",
      " #   Column            Dtype \n",
      "---  ------            ----- \n",
      " 0   bulk_campaign_id  int64 \n",
      " 1   client_id         int64 \n",
      " 2   message_id        object\n",
      " 3   event             object\n",
      " 4   channel           object\n",
      " 5   date              object\n",
      " 6   created_at        object\n",
      "dtypes: int64(2), object(5)\n",
      "memory usage: 680.4+ MB\n"
     ]
    }
   ],
   "source": [
    "apparel_messages.info()"
   ]
  },
  {
   "cell_type": "code",
   "execution_count": 43,
   "id": "a48d50d4-09b2-4446-a131-8df77dbdf4e2",
   "metadata": {},
   "outputs": [
    {
     "name": "stdout",
     "output_type": "stream",
     "text": [
      "Количество полных дубликатов: 48610\n"
     ]
    }
   ],
   "source": [
    "messages_date_duplicates = apparel_messages.duplicated().sum()\n",
    "print(f\"Количество полных дубликатов: {messages_date_duplicates}\")"
   ]
  },
  {
   "cell_type": "code",
   "execution_count": 44,
   "id": "3fcc6fba-fcf7-4575-b509-2b81d3aede97",
   "metadata": {},
   "outputs": [],
   "source": [
    "apparel_messages = apparel_messages.drop_duplicates() "
   ]
  },
  {
   "cell_type": "code",
   "execution_count": 45,
   "id": "f92e7d15-d4b8-4944-8063-510fd450fe9b",
   "metadata": {},
   "outputs": [],
   "source": [
    "# для удобства переименую столбец\n",
    "\n",
    "apparel_messages = apparel_messages.rename(columns={'date': 'date_messages'})"
   ]
  },
  {
   "cell_type": "code",
   "execution_count": 46,
   "id": "1a95100b-e998-433e-b3cd-794245163363",
   "metadata": {},
   "outputs": [],
   "source": [
    "apparel_messages['date_messages'] = pd.to_datetime(apparel_messages['date_messages'])\n",
    "apparel_messages['created_at'] = pd.to_datetime(apparel_messages['created_at'])\n"
   ]
  },
  {
   "cell_type": "code",
   "execution_count": 47,
   "id": "41828e1d-effc-48c6-b03b-4c556113adbe",
   "metadata": {},
   "outputs": [
    {
     "data": {
      "text/plain": [
       "bulk_campaign_id       2709\n",
       "client_id             53329\n",
       "message_id          9061667\n",
       "event                    11\n",
       "channel                   2\n",
       "date_messages           638\n",
       "created_at          4103539\n",
       "dtype: int64"
      ]
     },
     "execution_count": 47,
     "metadata": {},
     "output_type": "execute_result"
    }
   ],
   "source": [
    "apparel_messages.nunique()"
   ]
  },
  {
   "cell_type": "code",
   "execution_count": 48,
   "id": "888af4d5-73da-4b85-ae6c-d75adefe1126",
   "metadata": {},
   "outputs": [
    {
     "name": "stdout",
     "output_type": "stream",
     "text": [
      "Количество пропущенных значений: bulk_campaign_id    0\n",
      "client_id           0\n",
      "message_id          0\n",
      "event               0\n",
      "channel             0\n",
      "date_messages       0\n",
      "created_at          0\n",
      "dtype: int64\n"
     ]
    }
   ],
   "source": [
    "print(\"Количество пропущенных значений:\", apparel_messages.isnull().sum())"
   ]
  },
  {
   "cell_type": "code",
   "execution_count": 49,
   "id": "be23ffb7-5f44-46d4-9c4b-f1765f9bf901",
   "metadata": {},
   "outputs": [
    {
     "data": {
      "text/plain": [
       "array(['open', 'click', 'purchase', 'send', 'unsubscribe', 'hbq_spam',\n",
       "       'hard_bounce', 'subscribe', 'soft_bounce', 'complain', 'close'],\n",
       "      dtype=object)"
      ]
     },
     "execution_count": 49,
     "metadata": {},
     "output_type": "execute_result"
    }
   ],
   "source": [
    "apparel_messages['event'].unique()"
   ]
  },
  {
   "cell_type": "code",
   "execution_count": 50,
   "id": "07ede088-0c45-43b7-9d00-0225c03ee2f8",
   "metadata": {},
   "outputs": [
    {
     "data": {
      "text/plain": [
       "array(['email', 'mobile_push'], dtype=object)"
      ]
     },
     "execution_count": 50,
     "metadata": {},
     "output_type": "execute_result"
    }
   ],
   "source": [
    "apparel_messages['channel'].unique()"
   ]
  },
  {
   "cell_type": "markdown",
   "id": "ed8be53a-91c5-4ad2-a88e-8ceba35fe58c",
   "metadata": {},
   "source": [
    "### full_campaign_daily_event and full_campaign_daily_event_channel"
   ]
  },
  {
   "cell_type": "code",
   "execution_count": 52,
   "id": "05f3b990-5498-49ff-81a6-1e3ab3446bc8",
   "metadata": {},
   "outputs": [
    {
     "name": "stdout",
     "output_type": "stream",
     "text": [
      "Количество пропущенных значений: date                   0\n",
      "bulk_campaign_id       0\n",
      "count_click            0\n",
      "count_complain         0\n",
      "count_hard_bounce      0\n",
      "count_open             0\n",
      "count_purchase         0\n",
      "count_send             0\n",
      "count_soft_bounce      0\n",
      "count_subscribe        0\n",
      "count_unsubscribe      0\n",
      "nunique_click          0\n",
      "nunique_complain       0\n",
      "nunique_hard_bounce    0\n",
      "nunique_open           0\n",
      "nunique_purchase       0\n",
      "nunique_send           0\n",
      "nunique_soft_bounce    0\n",
      "nunique_subscribe      0\n",
      "nunique_unsubscribe    0\n",
      "count_hbq_spam         0\n",
      "nunique_hbq_spam       0\n",
      "count_close            0\n",
      "nunique_close          0\n",
      "dtype: int64\n",
      "Количество пропущенных значений: date                               0\n",
      "bulk_campaign_id                   0\n",
      "count_click_email                  0\n",
      "count_click_mobile_push            0\n",
      "count_open_email                   0\n",
      "count_open_mobile_push             0\n",
      "count_purchase_email               0\n",
      "count_purchase_mobile_push         0\n",
      "count_soft_bounce_email            0\n",
      "count_subscribe_email              0\n",
      "count_unsubscribe_email            0\n",
      "nunique_click_email                0\n",
      "nunique_click_mobile_push          0\n",
      "nunique_open_email                 0\n",
      "nunique_open_mobile_push           0\n",
      "nunique_purchase_email             0\n",
      "nunique_purchase_mobile_push       0\n",
      "nunique_soft_bounce_email          0\n",
      "nunique_subscribe_email            0\n",
      "nunique_unsubscribe_email          0\n",
      "count_hard_bounce_mobile_push      0\n",
      "count_send_mobile_push             0\n",
      "nunique_hard_bounce_mobile_push    0\n",
      "nunique_send_mobile_push           0\n",
      "count_hard_bounce_email            0\n",
      "count_hbq_spam_email               0\n",
      "count_send_email                   0\n",
      "nunique_hard_bounce_email          0\n",
      "nunique_hbq_spam_email             0\n",
      "nunique_send_email                 0\n",
      "count_soft_bounce_mobile_push      0\n",
      "nunique_soft_bounce_mobile_push    0\n",
      "count_complain_email               0\n",
      "nunique_complain_email             0\n",
      "count_close_mobile_push            0\n",
      "nunique_close_mobile_push          0\n",
      "dtype: int64\n"
     ]
    }
   ],
   "source": [
    "print(\"Количество пропущенных значений:\", full_campaign_daily_event.isnull().sum())\n",
    "print(\"Количество пропущенных значений:\", full_campaign_daily_event_channel.isnull().sum())"
   ]
  },
  {
   "cell_type": "code",
   "execution_count": 53,
   "id": "8bac097c-f9a7-4dff-96ca-622b75358de8",
   "metadata": {},
   "outputs": [
    {
     "name": "stderr",
     "output_type": "stream",
     "text": [
      "C:\\Users\\LENOVO\\AppData\\Local\\Temp\\ipykernel_14856\\3443459995.py:2: SettingWithCopyWarning: \n",
      "A value is trying to be set on a copy of a slice from a DataFrame.\n",
      "Try using .loc[row_indexer,col_indexer] = value instead\n",
      "\n",
      "See the caveats in the documentation: https://pandas.pydata.org/pandas-docs/stable/user_guide/indexing.html#returning-a-view-versus-a-copy\n",
      "  apparel_purchases.loc[:, 'year'] = apparel_purchases['date'].dt.year\n",
      "C:\\Users\\LENOVO\\AppData\\Local\\Temp\\ipykernel_14856\\3443459995.py:3: SettingWithCopyWarning: \n",
      "A value is trying to be set on a copy of a slice from a DataFrame.\n",
      "Try using .loc[row_indexer,col_indexer] = value instead\n",
      "\n",
      "See the caveats in the documentation: https://pandas.pydata.org/pandas-docs/stable/user_guide/indexing.html#returning-a-view-versus-a-copy\n",
      "  apparel_purchases.loc[:,'month'] = apparel_purchases['date'].dt.month\n",
      "C:\\Users\\LENOVO\\AppData\\Local\\Temp\\ipykernel_14856\\3443459995.py:4: SettingWithCopyWarning: \n",
      "A value is trying to be set on a copy of a slice from a DataFrame.\n",
      "Try using .loc[row_indexer,col_indexer] = value instead\n",
      "\n",
      "See the caveats in the documentation: https://pandas.pydata.org/pandas-docs/stable/user_guide/indexing.html#returning-a-view-versus-a-copy\n",
      "  apparel_purchases.loc[:, 'day_of_week']= apparel_purchases['date'].dt.dayofweek\n"
     ]
    }
   ],
   "source": [
    "# Извлекаем дополнительные признаки\n",
    "apparel_purchases.loc[:, 'year'] = apparel_purchases['date'].dt.year\n",
    "apparel_purchases.loc[:,'month'] = apparel_purchases['date'].dt.month\n",
    "apparel_purchases.loc[:, 'day_of_week']= apparel_purchases['date'].dt.dayofweek"
   ]
  },
  {
   "cell_type": "markdown",
   "id": "445e3a41-79ba-4e75-9605-e9c7e82eb488",
   "metadata": {},
   "source": [
    "**Вывод**\n",
    "\n",
    "- apparel_purchases\n",
    "\n",
    "Гипотеза о записи каждого товара в отдельную строку подтверждена, поэтому строки были объединены. Изменили название одного из столбца. Изменили формат для столбца date. Добавили столбцы со временем по году и месяцу для удобства изучения сезоности.\n",
    "\n",
    "- apparel_messages\n",
    "\n",
    "Удалили полные дубликаты. Переименовали и изменили формат для столбца date."
   ]
  },
  {
   "cell_type": "markdown",
   "id": "499cd149-1f8e-4747-b8af-cba991f77587",
   "metadata": {},
   "source": [
    "## Исследовательский анализ "
   ]
  },
  {
   "cell_type": "markdown",
   "id": "9ce2af50-bec3-4d77-b683-706d80cce7fd",
   "metadata": {},
   "source": [
    "### apparel_purchases"
   ]
  },
  {
   "cell_type": "code",
   "execution_count": 136,
   "id": "292ca9e9-6a6d-40d5-a6ff-683087006fc2",
   "metadata": {},
   "outputs": [
    {
     "data": {
      "text/html": [
       "<div>\n",
       "<style scoped>\n",
       "    .dataframe tbody tr th:only-of-type {\n",
       "        vertical-align: middle;\n",
       "    }\n",
       "\n",
       "    .dataframe tbody tr th {\n",
       "        vertical-align: top;\n",
       "    }\n",
       "\n",
       "    .dataframe thead th {\n",
       "        text-align: right;\n",
       "    }\n",
       "</style>\n",
       "<table border=\"1\" class=\"dataframe\">\n",
       "  <thead>\n",
       "    <tr style=\"text-align: right;\">\n",
       "      <th></th>\n",
       "      <th>client_id</th>\n",
       "      <th>quantity</th>\n",
       "      <th>price</th>\n",
       "      <th>date</th>\n",
       "      <th>cluster</th>\n",
       "      <th>year</th>\n",
       "      <th>month</th>\n",
       "      <th>day_of_week</th>\n",
       "    </tr>\n",
       "  </thead>\n",
       "  <tbody>\n",
       "    <tr>\n",
       "      <th>count</th>\n",
       "      <td>1.264500e+05</td>\n",
       "      <td>126450.000000</td>\n",
       "      <td>126450.000000</td>\n",
       "      <td>126450</td>\n",
       "      <td>126450.00000</td>\n",
       "      <td>126450.000000</td>\n",
       "      <td>126450.000000</td>\n",
       "      <td>126450.000000</td>\n",
       "    </tr>\n",
       "    <tr>\n",
       "      <th>mean</th>\n",
       "      <td>1.515916e+18</td>\n",
       "      <td>1.009624</td>\n",
       "      <td>1291.034781</td>\n",
       "      <td>2023-02-24 02:08:40.313167616</td>\n",
       "      <td>3.52193</td>\n",
       "      <td>2022.599415</td>\n",
       "      <td>7.143448</td>\n",
       "      <td>3.180435</td>\n",
       "    </tr>\n",
       "    <tr>\n",
       "      <th>min</th>\n",
       "      <td>1.515916e+18</td>\n",
       "      <td>1.000000</td>\n",
       "      <td>1.000000</td>\n",
       "      <td>2022-05-16 00:00:00</td>\n",
       "      <td>0.00000</td>\n",
       "      <td>2022.000000</td>\n",
       "      <td>1.000000</td>\n",
       "      <td>0.000000</td>\n",
       "    </tr>\n",
       "    <tr>\n",
       "      <th>25%</th>\n",
       "      <td>1.515916e+18</td>\n",
       "      <td>1.000000</td>\n",
       "      <td>420.000000</td>\n",
       "      <td>2022-09-08 00:00:00</td>\n",
       "      <td>1.00000</td>\n",
       "      <td>2022.000000</td>\n",
       "      <td>5.000000</td>\n",
       "      <td>2.000000</td>\n",
       "    </tr>\n",
       "    <tr>\n",
       "      <th>50%</th>\n",
       "      <td>1.515916e+18</td>\n",
       "      <td>1.000000</td>\n",
       "      <td>999.000000</td>\n",
       "      <td>2023-03-17 00:00:00</td>\n",
       "      <td>3.00000</td>\n",
       "      <td>2023.000000</td>\n",
       "      <td>7.000000</td>\n",
       "      <td>3.000000</td>\n",
       "    </tr>\n",
       "    <tr>\n",
       "      <th>75%</th>\n",
       "      <td>1.515916e+18</td>\n",
       "      <td>1.000000</td>\n",
       "      <td>1799.000000</td>\n",
       "      <td>2023-06-27 00:00:00</td>\n",
       "      <td>6.00000</td>\n",
       "      <td>2023.000000</td>\n",
       "      <td>11.000000</td>\n",
       "      <td>4.000000</td>\n",
       "    </tr>\n",
       "    <tr>\n",
       "      <th>max</th>\n",
       "      <td>1.515916e+18</td>\n",
       "      <td>30.000000</td>\n",
       "      <td>85499.000000</td>\n",
       "      <td>2024-02-16 00:00:00</td>\n",
       "      <td>9.00000</td>\n",
       "      <td>2024.000000</td>\n",
       "      <td>12.000000</td>\n",
       "      <td>6.000000</td>\n",
       "    </tr>\n",
       "    <tr>\n",
       "      <th>std</th>\n",
       "      <td>1.449002e+08</td>\n",
       "      <td>0.222700</td>\n",
       "      <td>1375.014914</td>\n",
       "      <td>NaN</td>\n",
       "      <td>2.84915</td>\n",
       "      <td>0.583326</td>\n",
       "      <td>3.168450</td>\n",
       "      <td>1.719100</td>\n",
       "    </tr>\n",
       "  </tbody>\n",
       "</table>\n",
       "</div>"
      ],
      "text/plain": [
       "          client_id       quantity          price  \\\n",
       "count  1.264500e+05  126450.000000  126450.000000   \n",
       "mean   1.515916e+18       1.009624    1291.034781   \n",
       "min    1.515916e+18       1.000000       1.000000   \n",
       "25%    1.515916e+18       1.000000     420.000000   \n",
       "50%    1.515916e+18       1.000000     999.000000   \n",
       "75%    1.515916e+18       1.000000    1799.000000   \n",
       "max    1.515916e+18      30.000000   85499.000000   \n",
       "std    1.449002e+08       0.222700    1375.014914   \n",
       "\n",
       "                                date       cluster           year  \\\n",
       "count                         126450  126450.00000  126450.000000   \n",
       "mean   2023-02-24 02:08:40.313167616       3.52193    2022.599415   \n",
       "min              2022-05-16 00:00:00       0.00000    2022.000000   \n",
       "25%              2022-09-08 00:00:00       1.00000    2022.000000   \n",
       "50%              2023-03-17 00:00:00       3.00000    2023.000000   \n",
       "75%              2023-06-27 00:00:00       6.00000    2023.000000   \n",
       "max              2024-02-16 00:00:00       9.00000    2024.000000   \n",
       "std                              NaN       2.84915       0.583326   \n",
       "\n",
       "               month    day_of_week  \n",
       "count  126450.000000  126450.000000  \n",
       "mean        7.143448       3.180435  \n",
       "min         1.000000       0.000000  \n",
       "25%         5.000000       2.000000  \n",
       "50%         7.000000       3.000000  \n",
       "75%        11.000000       4.000000  \n",
       "max        12.000000       6.000000  \n",
       "std         3.168450       1.719100  "
      ]
     },
     "execution_count": 136,
     "metadata": {},
     "output_type": "execute_result"
    }
   ],
   "source": [
    "apparel_purchases.describe()"
   ]
  },
  {
   "cell_type": "code",
   "execution_count": 57,
   "id": "2373d5f9-7ce2-44ac-97b1-a6936d0e23b2",
   "metadata": {},
   "outputs": [
    {
     "name": "stdout",
     "output_type": "stream",
     "text": [
      "Сводка по категориям:\n",
      "   cluster  avg_quantity    avg_price  total_purchases\n",
      "0        0      1.007049  1781.159577            20711\n",
      "1        1      1.006779  1177.879020            24194\n",
      "2        2      1.035953   981.878329             9123\n",
      "3        3      1.007531  1170.706223            12084\n",
      "4        4      1.007291  1326.213738            15636\n",
      "5        5      1.008102  1330.109073            13083\n",
      "6        6      1.009668   901.987150             8171\n",
      "7        7      1.005013  1495.343099             8977\n",
      "8        8      1.027003   430.161726             3407\n",
      "9        9      1.004700  1298.062997            11064\n"
     ]
    },
    {
     "data": {
      "image/png": "[encoded data removed]",
      "text/plain": [
       "<Figure size 1000x600 with 1 Axes>"
      ]
     },
     "metadata": {},
     "output_type": "display_data"
    },
    {
     "data": {
      "image/png": "[encoded data removed]",
      "text/plain": [
       "<Figure size 1000x600 with 1 Axes>"
      ]
     },
     "metadata": {},
     "output_type": "display_data"
    },
    {
     "data": {
      "image/png": "[encoded data removed]",
      "text/plain": [
       "<Figure size 1000x600 with 1 Axes>"
      ]
     },
     "metadata": {},
     "output_type": "display_data"
    },
    {
     "data": {
      "image/png": "[encoded data removed]",
      "text/plain": [
       "<Figure size 1000x600 with 1 Axes>"
      ]
     },
     "metadata": {},
     "output_type": "display_data"
    },
    {
     "data": {
      "image/png": "[encoded data removed]",
      "text/plain": [
       "<Figure size 1000x600 with 1 Axes>"
      ]
     },
     "metadata": {},
     "output_type": "display_data"
    }
   ],
   "source": [
    "# 1. Основные статистические данные по категориям\n",
    "category_summary = apparel_purchases.groupby('cluster').agg(\n",
    "    avg_quantity=('quantity', 'mean'),\n",
    "    avg_price=('price', 'mean'),\n",
    "    total_purchases=('client_id', 'count')\n",
    ").reset_index()\n",
    "\n",
    "print(\"Сводка по категориям:\")\n",
    "print(category_summary)\n",
    "\n",
    "# 2. Гистограмма распределения количества покупок по категориям\n",
    "plt.figure(figsize=(10, 6))\n",
    "sns.countplot(data=apparel_purchases, x='cluster')\n",
    "plt.title(\"Распределение количества покупок по категориям\")\n",
    "plt.xlabel(\"Категория\")\n",
    "plt.ylabel(\"Количество покупок\")\n",
    "plt.show()\n",
    "\n",
    "# 3. Среднее количество единиц товаров по категориям\n",
    "plt.figure(figsize=(10, 6))\n",
    "sns.barplot(data=category_summary, x='cluster', y='avg_quantity')\n",
    "plt.title(\"Среднее количество товаров по категориям\")\n",
    "plt.xlabel(\"Категория\")\n",
    "plt.ylabel(\"Среднее количество товаров\")\n",
    "plt.show()\n",
    "\n",
    "# 4. Средняя цена товаров по категориям\n",
    "plt.figure(figsize=(10, 6))\n",
    "sns.barplot(data=category_summary, x='cluster', y='avg_price')\n",
    "plt.title(\"Средняя цена товаров по категориям\")\n",
    "plt.xlabel(\"Категория\")\n",
    "plt.ylabel(\"Средняя цена\")\n",
    "plt.show()\n",
    "\n",
    "# 5. Боксплот для анализа распределения цены по кластерам\n",
    "plt.figure(figsize=(10, 6))\n",
    "sns.boxplot(data=apparel_purchases, x='cluster', y='price')\n",
    "plt.title(\"Распределение цены товаров по категориям\")\n",
    "plt.xlabel(\"Категория\")\n",
    "plt.ylabel(\"Цена\")\n",
    "plt.show()\n",
    "\n",
    "# 6. Корреляция цены и количества товаров по кластерам\n",
    "plt.figure(figsize=(10, 6))\n",
    "sns.scatterplot(data=apparel_purchases, x='quantity', y='price', hue='cluster', palette='viridis')\n",
    "plt.title(\"Корреляция между количеством товаров и ценой по категориям\")\n",
    "plt.xlabel(\"Количество товаров\")\n",
    "plt.ylabel(\"Цена\")\n",
    "plt.legend(title='Категория')\n",
    "plt.show()"
   ]
  },
  {
   "cell_type": "code",
   "execution_count": 58,
   "id": "68de1822-e28a-404e-8161-5595857749f8",
   "metadata": {},
   "outputs": [
    {
     "data": {
      "image/png": "[encoded data removed]",
      "text/plain": [
       "<Figure size 1000x600 with 1 Axes>"
      ]
     },
     "metadata": {},
     "output_type": "display_data"
    }
   ],
   "source": [
    "plt.figure(figsize=(10, 6))\n",
    "sns.histplot(apparel_purchases['price'], kde=True)\n",
    "plt.title('Распределение цен')\n",
    "plt.xlabel('Цена')\n",
    "plt.ylabel('Частота')\n",
    "plt.show()"
   ]
  },
  {
   "cell_type": "code",
   "execution_count": 59,
   "id": "135f9327-a1e4-4bc7-a74a-068bd8079d27",
   "metadata": {},
   "outputs": [
    {
     "data": {
      "image/png": "[encoded data removed]",
      "text/plain": [
       "<Figure size 1000x600 with 1 Axes>"
      ]
     },
     "metadata": {},
     "output_type": "display_data"
    }
   ],
   "source": [
    "plt.figure(figsize=(10, 6))\n",
    "sns.histplot(apparel_purchases['quantity'])\n",
    "plt.title('Распределение количества товара')\n",
    "plt.xlabel('количество товара')\n",
    "plt.ylabel('Частота')\n",
    "plt.show()"
   ]
  },
  {
   "cell_type": "code",
   "execution_count": 60,
   "id": "4c75c03d-5480-4f94-a6b9-e8a44ee72f11",
   "metadata": {},
   "outputs": [
    {
     "data": {
      "image/png": "[encoded data removed]",
      "text/plain": [
       "<Figure size 1000x600 with 1 Axes>"
      ]
     },
     "metadata": {},
     "output_type": "display_data"
    }
   ],
   "source": [
    "plt.figure(figsize=(10, 6))\n",
    "sns.histplot(apparel_purchases['month'])\n",
    "plt.title('Распределение покупок по месяцам')\n",
    "plt.xlabel('Месяц')\n",
    "plt.ylabel('Частота')\n",
    "plt.show()"
   ]
  },
  {
   "cell_type": "code",
   "execution_count": 61,
   "id": "739429bd-f69a-4858-9291-aff09f718323",
   "metadata": {},
   "outputs": [
    {
     "data": {
      "image/png": "[encoded data removed]",
      "text/plain": [
       "<Figure size 1000x600 with 1 Axes>"
      ]
     },
     "metadata": {},
     "output_type": "display_data"
    }
   ],
   "source": [
    "plt.figure(figsize=(10, 6))\n",
    "sns.histplot(apparel_purchases['day_of_week'])\n",
    "plt.title('Распределение покупок по дням недели')\n",
    "plt.xlabel('День недели')\n",
    "plt.ylabel('Частота')\n",
    "plt.show()"
   ]
  },
  {
   "cell_type": "code",
   "execution_count": 63,
   "id": "c485c354-6324-462f-b29b-ad554ea72549",
   "metadata": {},
   "outputs": [
    {
     "data": {
      "image/png": "[encoded data removed]",
      "text/plain": [
       "<Figure size 1000x600 with 1 Axes>"
      ]
     },
     "metadata": {},
     "output_type": "display_data"
    }
   ],
   "source": [
    "# Линейный график для просмотра тренда продаж\n",
    "apparel_purchases.groupby('date').size().plot(figsize=(10,6))\n",
    "plt.title('Число покупок по датам')\n",
    "plt.xlabel('Дата')\n",
    "plt.ylabel('Количество покупок')\n",
    "plt.show()"
   ]
  },
  {
   "cell_type": "markdown",
   "id": "5ecd3f45-af52-4cb4-9140-7512d5557a61",
   "metadata": {},
   "source": [
    "Вывод:\n",
    "\n",
    "Самый популярный месяц июнь и ноябрь с декабрем (очевидно новогодние празники). Основные покупки приходятся на четверг. Основная стоимость товаров до 2 тыс рублей."
   ]
  },
  {
   "cell_type": "markdown",
   "id": "932f9bba-85fd-4d55-9d0b-43f5f348e86c",
   "metadata": {},
   "source": [
    "### apparel_messages"
   ]
  },
  {
   "cell_type": "code",
   "execution_count": 65,
   "id": "9d4b8837-179f-4d06-a278-083ead440a72",
   "metadata": {},
   "outputs": [
    {
     "data": {
      "text/html": [
       "<div>\n",
       "<style scoped>\n",
       "    .dataframe tbody tr th:only-of-type {\n",
       "        vertical-align: middle;\n",
       "    }\n",
       "\n",
       "    .dataframe tbody tr th {\n",
       "        vertical-align: top;\n",
       "    }\n",
       "\n",
       "    .dataframe thead th {\n",
       "        text-align: right;\n",
       "    }\n",
       "</style>\n",
       "<table border=\"1\" class=\"dataframe\">\n",
       "  <thead>\n",
       "    <tr style=\"text-align: right;\">\n",
       "      <th></th>\n",
       "      <th>bulk_campaign_id</th>\n",
       "      <th>client_id</th>\n",
       "      <th>date_messages</th>\n",
       "      <th>created_at</th>\n",
       "    </tr>\n",
       "  </thead>\n",
       "  <tbody>\n",
       "    <tr>\n",
       "      <th>count</th>\n",
       "      <td>1.269119e+07</td>\n",
       "      <td>1.269119e+07</td>\n",
       "      <td>12691188</td>\n",
       "      <td>12691188</td>\n",
       "    </tr>\n",
       "    <tr>\n",
       "      <th>mean</th>\n",
       "      <td>1.159768e+04</td>\n",
       "      <td>1.515916e+18</td>\n",
       "      <td>2023-06-04 17:27:00.569989632</td>\n",
       "      <td>2023-06-05 04:38:55.658559232</td>\n",
       "    </tr>\n",
       "    <tr>\n",
       "      <th>min</th>\n",
       "      <td>5.480000e+02</td>\n",
       "      <td>1.515916e+18</td>\n",
       "      <td>2022-05-19 00:00:00</td>\n",
       "      <td>2022-05-19 00:14:20</td>\n",
       "    </tr>\n",
       "    <tr>\n",
       "      <th>25%</th>\n",
       "      <td>8.746000e+03</td>\n",
       "      <td>1.515916e+18</td>\n",
       "      <td>2022-12-16 00:00:00</td>\n",
       "      <td>2022-12-16 19:15:55</td>\n",
       "    </tr>\n",
       "    <tr>\n",
       "      <th>50%</th>\n",
       "      <td>1.351600e+04</td>\n",
       "      <td>1.515916e+18</td>\n",
       "      <td>2023-07-20 00:00:00</td>\n",
       "      <td>2023-07-20 11:09:42</td>\n",
       "    </tr>\n",
       "    <tr>\n",
       "      <th>75%</th>\n",
       "      <td>1.415800e+04</td>\n",
       "      <td>1.515916e+18</td>\n",
       "      <td>2023-11-21 00:00:00</td>\n",
       "      <td>2023-11-21 15:58:05</td>\n",
       "    </tr>\n",
       "    <tr>\n",
       "      <th>max</th>\n",
       "      <td>1.465700e+04</td>\n",
       "      <td>1.515916e+18</td>\n",
       "      <td>2024-02-15 00:00:00</td>\n",
       "      <td>2024-02-15 23:58:40</td>\n",
       "    </tr>\n",
       "    <tr>\n",
       "      <th>std</th>\n",
       "      <td>3.262181e+03</td>\n",
       "      <td>3.250414e+08</td>\n",
       "      <td>NaN</td>\n",
       "      <td>NaN</td>\n",
       "    </tr>\n",
       "  </tbody>\n",
       "</table>\n",
       "</div>"
      ],
      "text/plain": [
       "       bulk_campaign_id     client_id                  date_messages  \\\n",
       "count      1.269119e+07  1.269119e+07                       12691188   \n",
       "mean       1.159768e+04  1.515916e+18  2023-06-04 17:27:00.569989632   \n",
       "min        5.480000e+02  1.515916e+18            2022-05-19 00:00:00   \n",
       "25%        8.746000e+03  1.515916e+18            2022-12-16 00:00:00   \n",
       "50%        1.351600e+04  1.515916e+18            2023-07-20 00:00:00   \n",
       "75%        1.415800e+04  1.515916e+18            2023-11-21 00:00:00   \n",
       "max        1.465700e+04  1.515916e+18            2024-02-15 00:00:00   \n",
       "std        3.262181e+03  3.250414e+08                            NaN   \n",
       "\n",
       "                          created_at  \n",
       "count                       12691188  \n",
       "mean   2023-06-05 04:38:55.658559232  \n",
       "min              2022-05-19 00:14:20  \n",
       "25%              2022-12-16 19:15:55  \n",
       "50%              2023-07-20 11:09:42  \n",
       "75%              2023-11-21 15:58:05  \n",
       "max              2024-02-15 23:58:40  \n",
       "std                              NaN  "
      ]
     },
     "execution_count": 65,
     "metadata": {},
     "output_type": "execute_result"
    }
   ],
   "source": [
    "apparel_messages.describe()"
   ]
  },
  {
   "cell_type": "code",
   "execution_count": 66,
   "id": "f4523bf4-4f0a-4b6b-ac67-d8ca616127ed",
   "metadata": {},
   "outputs": [
    {
     "data": {
      "text/plain": [
       "2709"
      ]
     },
     "execution_count": 66,
     "metadata": {},
     "output_type": "execute_result"
    }
   ],
   "source": [
    "apparel_messages['bulk_campaign_id'].nunique()"
   ]
  },
  {
   "cell_type": "code",
   "execution_count": 67,
   "id": "1103877f-f1be-42d3-9400-17b71dd6d892",
   "metadata": {},
   "outputs": [
    {
     "data": {
      "text/plain": [
       "event\n",
       "send           71.37\n",
       "open           24.05\n",
       "click           3.81\n",
       "purchase        0.49\n",
       "hard_bounce     0.16\n",
       "soft_bounce     0.08\n",
       "unsubscribe     0.02\n",
       "hbq_spam        0.01\n",
       "complain        0.00\n",
       "subscribe       0.00\n",
       "close           0.00\n",
       "Name: count, dtype: float64"
      ]
     },
     "execution_count": 67,
     "metadata": {},
     "output_type": "execute_result"
    }
   ],
   "source": [
    "percentage_distribution = (apparel_messages['event'].value_counts() / 12691188 * 100).round(2)\n",
    "\n",
    "# Выводим результат\n",
    "percentage_distribution"
   ]
  },
  {
   "cell_type": "code",
   "execution_count": 68,
   "id": "178b1b4d-76f4-4dec-af88-d22683afeae5",
   "metadata": {},
   "outputs": [
    {
     "data": {
      "image/png": "[encoded data removed]",
      "text/plain": [
       "<Figure size 500x400 with 1 Axes>"
      ]
     },
     "metadata": {},
     "output_type": "display_data"
    }
   ],
   "source": [
    "channel_counts = apparel_messages['channel'].value_counts()\n",
    "\n",
    "plt.figure(figsize=(5, 4))\n",
    "plt.pie(channel_counts.values, labels=channel_counts.index, autopct='%1.1f%%', startangle=90)\n",
    "plt.title('Распределение типов каналов рассылки')\n",
    "plt.legend(title=\"Типы рассылки\", loc=\"center left\", bbox_to_anchor=(1, 0, 0.5, 1))\n",
    "plt.axis('equal')\n",
    "plt.tight_layout()\n",
    "plt.show()"
   ]
  },
  {
   "cell_type": "code",
   "execution_count": 69,
   "id": "6906e84f-5b7c-4758-8791-9124375e4fb0",
   "metadata": {},
   "outputs": [
    {
     "data": {
      "text/html": [
       "<div>\n",
       "<style scoped>\n",
       "    .dataframe tbody tr th:only-of-type {\n",
       "        vertical-align: middle;\n",
       "    }\n",
       "\n",
       "    .dataframe tbody tr th {\n",
       "        vertical-align: top;\n",
       "    }\n",
       "\n",
       "    .dataframe thead th {\n",
       "        text-align: right;\n",
       "    }\n",
       "</style>\n",
       "<table border=\"1\" class=\"dataframe\">\n",
       "  <thead>\n",
       "    <tr style=\"text-align: right;\">\n",
       "      <th></th>\n",
       "      <th>client_id</th>\n",
       "      <th>quantity</th>\n",
       "      <th>price</th>\n",
       "      <th>category_ids</th>\n",
       "      <th>date</th>\n",
       "      <th>message_id_x</th>\n",
       "      <th>category_str</th>\n",
       "      <th>cluster</th>\n",
       "      <th>year</th>\n",
       "      <th>month</th>\n",
       "      <th>day_of_week</th>\n",
       "      <th>bulk_campaign_id</th>\n",
       "      <th>message_id_y</th>\n",
       "      <th>event</th>\n",
       "      <th>channel</th>\n",
       "      <th>date_messages</th>\n",
       "      <th>created_at</th>\n",
       "    </tr>\n",
       "  </thead>\n",
       "  <tbody>\n",
       "    <tr>\n",
       "      <th>0</th>\n",
       "      <td>1515915625468169594</td>\n",
       "      <td>1</td>\n",
       "      <td>1999.0</td>\n",
       "      <td>['4', '28', '57', '431']</td>\n",
       "      <td>2022-05-16</td>\n",
       "      <td>1515915625468169594-4301-627b661e9736d</td>\n",
       "      <td>[ ' 4 ' ,   ' 2 8 ' ,   ' 5 7 ' ,   ' 4 3 1 ' ]</td>\n",
       "      <td>4</td>\n",
       "      <td>2022</td>\n",
       "      <td>5</td>\n",
       "      <td>0</td>\n",
       "      <td>4463.0</td>\n",
       "      <td>1515915625468169594-4463-6285e40442c50</td>\n",
       "      <td>send</td>\n",
       "      <td>email</td>\n",
       "      <td>2022-05-19</td>\n",
       "      <td>2022-05-19 06:31:47</td>\n",
       "    </tr>\n",
       "    <tr>\n",
       "      <th>1</th>\n",
       "      <td>1515915625468169594</td>\n",
       "      <td>1</td>\n",
       "      <td>1999.0</td>\n",
       "      <td>['4', '28', '57', '431']</td>\n",
       "      <td>2022-05-16</td>\n",
       "      <td>1515915625468169594-4301-627b661e9736d</td>\n",
       "      <td>[ ' 4 ' ,   ' 2 8 ' ,   ' 5 7 ' ,   ' 4 3 1 ' ]</td>\n",
       "      <td>4</td>\n",
       "      <td>2022</td>\n",
       "      <td>5</td>\n",
       "      <td>0</td>\n",
       "      <td>4463.0</td>\n",
       "      <td>1515915625468169594-4463-6285e40442c50</td>\n",
       "      <td>open</td>\n",
       "      <td>email</td>\n",
       "      <td>2022-05-19</td>\n",
       "      <td>2022-05-19 08:02:13</td>\n",
       "    </tr>\n",
       "    <tr>\n",
       "      <th>2</th>\n",
       "      <td>1515915625468169594</td>\n",
       "      <td>1</td>\n",
       "      <td>1999.0</td>\n",
       "      <td>['4', '28', '57', '431']</td>\n",
       "      <td>2022-05-16</td>\n",
       "      <td>1515915625468169594-4301-627b661e9736d</td>\n",
       "      <td>[ ' 4 ' ,   ' 2 8 ' ,   ' 5 7 ' ,   ' 4 3 1 ' ]</td>\n",
       "      <td>4</td>\n",
       "      <td>2022</td>\n",
       "      <td>5</td>\n",
       "      <td>0</td>\n",
       "      <td>4568.0</td>\n",
       "      <td>1515915625468169594-4568-628ddb4b07e71</td>\n",
       "      <td>send</td>\n",
       "      <td>email</td>\n",
       "      <td>2022-05-25</td>\n",
       "      <td>2022-05-25 08:34:40</td>\n",
       "    </tr>\n",
       "    <tr>\n",
       "      <th>3</th>\n",
       "      <td>1515915625468169594</td>\n",
       "      <td>1</td>\n",
       "      <td>1999.0</td>\n",
       "      <td>['4', '28', '57', '431']</td>\n",
       "      <td>2022-05-16</td>\n",
       "      <td>1515915625468169594-4301-627b661e9736d</td>\n",
       "      <td>[ ' 4 ' ,   ' 2 8 ' ,   ' 5 7 ' ,   ' 4 3 1 ' ]</td>\n",
       "      <td>4</td>\n",
       "      <td>2022</td>\n",
       "      <td>5</td>\n",
       "      <td>0</td>\n",
       "      <td>4568.0</td>\n",
       "      <td>1515915625468169594-4568-628ddb4b07e71</td>\n",
       "      <td>open</td>\n",
       "      <td>email</td>\n",
       "      <td>2022-05-25</td>\n",
       "      <td>2022-05-25 08:41:54</td>\n",
       "    </tr>\n",
       "    <tr>\n",
       "      <th>4</th>\n",
       "      <td>1515915625468169594</td>\n",
       "      <td>1</td>\n",
       "      <td>1999.0</td>\n",
       "      <td>['4', '28', '57', '431']</td>\n",
       "      <td>2022-05-16</td>\n",
       "      <td>1515915625468169594-4301-627b661e9736d</td>\n",
       "      <td>[ ' 4 ' ,   ' 2 8 ' ,   ' 5 7 ' ,   ' 4 3 1 ' ]</td>\n",
       "      <td>4</td>\n",
       "      <td>2022</td>\n",
       "      <td>5</td>\n",
       "      <td>0</td>\n",
       "      <td>4591.0</td>\n",
       "      <td>1515915625468169594-4591-628f1e827259b</td>\n",
       "      <td>send</td>\n",
       "      <td>email</td>\n",
       "      <td>2022-05-26</td>\n",
       "      <td>2022-05-26 06:36:00</td>\n",
       "    </tr>\n",
       "  </tbody>\n",
       "</table>\n",
       "</div>"
      ],
      "text/plain": [
       "             client_id  quantity   price              category_ids       date  \\\n",
       "0  1515915625468169594         1  1999.0  ['4', '28', '57', '431'] 2022-05-16   \n",
       "1  1515915625468169594         1  1999.0  ['4', '28', '57', '431'] 2022-05-16   \n",
       "2  1515915625468169594         1  1999.0  ['4', '28', '57', '431'] 2022-05-16   \n",
       "3  1515915625468169594         1  1999.0  ['4', '28', '57', '431'] 2022-05-16   \n",
       "4  1515915625468169594         1  1999.0  ['4', '28', '57', '431'] 2022-05-16   \n",
       "\n",
       "                             message_id_x  \\\n",
       "0  1515915625468169594-4301-627b661e9736d   \n",
       "1  1515915625468169594-4301-627b661e9736d   \n",
       "2  1515915625468169594-4301-627b661e9736d   \n",
       "3  1515915625468169594-4301-627b661e9736d   \n",
       "4  1515915625468169594-4301-627b661e9736d   \n",
       "\n",
       "                                      category_str  cluster  year  month  \\\n",
       "0  [ ' 4 ' ,   ' 2 8 ' ,   ' 5 7 ' ,   ' 4 3 1 ' ]        4  2022      5   \n",
       "1  [ ' 4 ' ,   ' 2 8 ' ,   ' 5 7 ' ,   ' 4 3 1 ' ]        4  2022      5   \n",
       "2  [ ' 4 ' ,   ' 2 8 ' ,   ' 5 7 ' ,   ' 4 3 1 ' ]        4  2022      5   \n",
       "3  [ ' 4 ' ,   ' 2 8 ' ,   ' 5 7 ' ,   ' 4 3 1 ' ]        4  2022      5   \n",
       "4  [ ' 4 ' ,   ' 2 8 ' ,   ' 5 7 ' ,   ' 4 3 1 ' ]        4  2022      5   \n",
       "\n",
       "   day_of_week  bulk_campaign_id                            message_id_y  \\\n",
       "0            0            4463.0  1515915625468169594-4463-6285e40442c50   \n",
       "1            0            4463.0  1515915625468169594-4463-6285e40442c50   \n",
       "2            0            4568.0  1515915625468169594-4568-628ddb4b07e71   \n",
       "3            0            4568.0  1515915625468169594-4568-628ddb4b07e71   \n",
       "4            0            4591.0  1515915625468169594-4591-628f1e827259b   \n",
       "\n",
       "  event channel date_messages          created_at  \n",
       "0  send   email    2022-05-19 2022-05-19 06:31:47  \n",
       "1  open   email    2022-05-19 2022-05-19 08:02:13  \n",
       "2  send   email    2022-05-25 2022-05-25 08:34:40  \n",
       "3  open   email    2022-05-25 2022-05-25 08:41:54  \n",
       "4  send   email    2022-05-26 2022-05-26 06:36:00  "
      ]
     },
     "execution_count": 69,
     "metadata": {},
     "output_type": "execute_result"
    }
   ],
   "source": [
    "# Объединяем данные по client_id\n",
    "merged_data = pd.merge(apparel_purchases, apparel_messages, how='left', on='client_id')\n",
    "merged_data.head()"
   ]
  },
  {
   "cell_type": "code",
   "execution_count": 70,
   "id": "d779e822-0d96-4287-a8bb-7a400ab5e87f",
   "metadata": {},
   "outputs": [
    {
     "data": {
      "text/plain": [
       "49848"
      ]
     },
     "execution_count": 70,
     "metadata": {},
     "output_type": "execute_result"
    }
   ],
   "source": [
    "merged_data['client_id'].nunique()"
   ]
  },
  {
   "cell_type": "code",
   "execution_count": 71,
   "id": "8a5ba68b-1219-420d-b869-1eec27d02274",
   "metadata": {},
   "outputs": [
    {
     "name": "stdout",
     "output_type": "stream",
     "text": [
      "Покупки, связанные с рассылкой: 94562\n",
      "Покупки, не связанные с рассылкой: 31888\n"
     ]
    },
    {
     "data": {
      "image/png": "[encoded data removed]",
      "text/plain": [
       "<Figure size 800x600 with 1 Axes>"
      ]
     },
     "metadata": {},
     "output_type": "display_data"
    }
   ],
   "source": [
    "def purchases_after_messages(df_purchases, df_messages):\n",
    "    # Фильтруем события 'purchase' из сообщений\n",
    "    purchase_related_messages = df_messages[df_messages['event'] == 'purchase']['client_id'].unique()\n",
    "\n",
    "    # Покупки, связанные с событием 'purchase' в рассылках\n",
    "    related_purchases = df_purchases[df_purchases['client_id'].isin(purchase_related_messages)]\n",
    "\n",
    "    # Покупки, не связанные с событием 'purchase' в рассылках\n",
    "    unrelated_purchases = df_purchases[~df_purchases['client_id'].isin(purchase_related_messages)]\n",
    "\n",
    "    # Статистика\n",
    "    total_related = len(related_purchases)\n",
    "    total_unrelated = len(unrelated_purchases)\n",
    "    \n",
    "    print(f'Покупки, связанные с рассылкой: {total_related}')\n",
    "    print(f'Покупки, не связанные с рассылкой: {total_unrelated}')\n",
    "    \n",
    "    # Визуализация\n",
    "    labels = ['Связано с рассылкой', 'Не связано с рассылкой']\n",
    "    values = [total_related, total_unrelated]\n",
    "\n",
    "    plt.figure(figsize=(8, 6))\n",
    "    plt.bar(labels, values, color=['green', 'blue'])\n",
    "    plt.title('Сравнение покупок, связанных с рассылкой и без взаимодействия')\n",
    "    plt.ylabel('Количество покупок')\n",
    "    plt.show()\n",
    "\n",
    "# Применяем функцию для анализа\n",
    "purchases_after_messages(apparel_purchases, apparel_messages)"
   ]
  },
  {
   "cell_type": "markdown",
   "id": "27044a27-6702-46d2-a2a1-caf7732b4d0b",
   "metadata": {},
   "source": [
    "Вывод: \n",
    "\n",
    "Датасет имеет большое количество данных по рассылке, было бы неплохо знать тип рассылки реклама, промокод, обЪявление о скидке или распродаже. С помощью этих данных можно было отследить более детальный портрет покупателя. "
   ]
  },
  {
   "cell_type": "markdown",
   "id": "7fd60164-72d2-4433-82db-5f1e8602ca0d",
   "metadata": {},
   "source": [
    "### Создание новых признаков"
   ]
  },
  {
   "cell_type": "code",
   "execution_count": 73,
   "id": "e6b8dd6c-60a4-4d02-922f-5f2f9465efac",
   "metadata": {},
   "outputs": [
    {
     "name": "stdout",
     "output_type": "stream",
     "text": [
      "Среднее время до покупки: 144.87 дней\n",
      "Медианное время до покупки: 108.00 дней\n",
      "Максимальное время до покупки: 637.00 дней\n",
      "Минимальное время до покупки: 1.00 дней\n",
      "\n",
      "Распределение времени до покупки (топ 10 значений):\n",
      "time_to_purchase_days\n",
      "1.0     42541\n",
      "2.0     10248\n",
      "3.0      5734\n",
      "4.0      4851\n",
      "5.0      4412\n",
      "6.0      4622\n",
      "7.0      5151\n",
      "8.0      4731\n",
      "9.0      3910\n",
      "10.0     3789\n",
      "Name: count, dtype: int64\n"
     ]
    },
    {
     "data": {
      "image/png": "[encoded data removed]",
      "text/plain": [
       "<Figure size 1000x600 with 1 Axes>"
      ]
     },
     "metadata": {},
     "output_type": "display_data"
    }
   ],
   "source": [
    "def analyze_time_between_event_and_purchase(merged_data):\n",
    "    # Убедимся, что дата в формате datetime\n",
    "    merged_data['date'] = pd.to_datetime(merged_data['date'])\n",
    "    merged_data['date_messages'] = pd.to_datetime(merged_data['date_messages']).dt.floor('D')  # Обрабатываем только дату\n",
    "    \n",
    "    # Оставляем только строки, где событие = 'click' или 'purchase'\n",
    "    events_of_interest = ['click', 'purchase']\n",
    "    merged_data_filtered = merged_data[merged_data['event'].isin(events_of_interest)].copy()  # Создаем копию\n",
    "    \n",
    "    # Расчет временного промежутка (разница между покупкой и событием)\n",
    "    merged_data_filtered.loc[:, 'time_to_purchase'] = merged_data_filtered['date'] - merged_data_filtered['date_messages']\n",
    "    \n",
    "    # Оставляем только строки, где покупка действительно произошла после события\n",
    "    valid_purchases = merged_data_filtered[merged_data_filtered['time_to_purchase'] > pd.Timedelta(0)].copy()\n",
    "    \n",
    "    # Преобразуем время в дни\n",
    "    valid_purchases.loc[:, 'time_to_purchase_days'] = valid_purchases['time_to_purchase'].dt.total_seconds() / (3600 * 24)\n",
    "    \n",
    "    # Анализ основных метрик\n",
    "    avg_time = valid_purchases['time_to_purchase_days'].mean()\n",
    "    median_time = valid_purchases['time_to_purchase_days'].median()\n",
    "    max_time = valid_purchases['time_to_purchase_days'].max()\n",
    "    min_time = valid_purchases['time_to_purchase_days'].min()\n",
    "\n",
    "    print(f\"Среднее время до покупки: {avg_time:.2f} дней\")\n",
    "    print(f\"Медианное время до покупки: {median_time:.2f} дней\")\n",
    "    print(f\"Максимальное время до покупки: {max_time:.2f} дней\")\n",
    "    print(f\"Минимальное время до покупки: {min_time:.2f} дней\")\n",
    "    \n",
    "    # Расчет распределения времени до покупки (топ-10 значений)\n",
    "    valid_purchases_count = valid_purchases['time_to_purchase_days'].value_counts().sort_index().head(10)\n",
    "    print(\"\\nРаспределение времени до покупки (топ 10 значений):\")\n",
    "    print(valid_purchases_count)\n",
    "\n",
    "    # Визуализация распределения времени до покупки\n",
    "    plt.figure(figsize=(10, 6))\n",
    "    plt.hist(valid_purchases['time_to_purchase_days'], bins=30, edgecolor='black')\n",
    "    plt.title('Распределение времени до покупки после события (в днях)')\n",
    "    plt.xlabel('Время до покупки (в днях)')\n",
    "    plt.ylabel('Частота')\n",
    "    plt.grid(True)\n",
    "    plt.show()\n",
    "\n",
    "# Применяем функцию к объединенным данным\n",
    "analyze_time_between_event_and_purchase(merged_data)"
   ]
  },
  {
   "cell_type": "code",
   "execution_count": 74,
   "id": "5ee71cb2-0447-4488-8438-5997fabb9d22",
   "metadata": {},
   "outputs": [],
   "source": [
    "def time_between_event_and_purchase(merged_data):\n",
    "# Убедимся, что дата в формате datetime\n",
    "    merged_data['date'] = pd.to_datetime(merged_data['date'])\n",
    "    merged_data['date_messages'] = pd.to_datetime(merged_data['date_messages']).dt.floor('D')  # Обрабатываем только дату\n",
    "    \n",
    "    # Оставляем только строки, где событие = 'click' или 'purchase'\n",
    "    events_of_interest = ['click', 'purchase']\n",
    "    merged_data_filtered = merged_data[merged_data['event'].isin(events_of_interest)].copy()  # Создаем копию\n",
    "    \n",
    "    # Расчет временного промежутка (разница между покупкой и событием)\n",
    "    merged_data_filtered['time_to_purchase'] = merged_data_filtered['date'] - merged_data_filtered['date_messages']\n",
    "    \n",
    "    # Оставляем только строки, где покупка действительно произошла после события\n",
    "    valid_purchases = merged_data_filtered[merged_data_filtered['time_to_purchase'] > pd.Timedelta(0)].copy()\n",
    "    \n",
    "    # Преобразуем время в дни\n",
    "    valid_purchases['time_to_purchase_days'] = valid_purchases['time_to_purchase'].dt.total_seconds() / (3600 * 24)\n",
    "    \n",
    "    # Возвращаем обновлённые данные с добавленным столбцом\n",
    "    return valid_purchases\n",
    "\n",
    "# Применение функции и сохранение результата\n",
    "merged_data_with_time = time_between_event_and_purchase(merged_data)\n"
   ]
  },
  {
   "cell_type": "code",
   "execution_count": 75,
   "id": "fccfa8ff-8821-40f1-a2ba-91560d94f65c",
   "metadata": {},
   "outputs": [],
   "source": [
    "# Добавим бинарный признак быстрой покупки (покупка за 7 дней после клика)\n",
    "merged_data['fast_purchase'] = merged_data_with_time['time_to_purchase_days'].apply(lambda x: 1 if x <= 7 else 0)"
   ]
  },
  {
   "cell_type": "code",
   "execution_count": 76,
   "id": "01f7ca52-a5bd-49f4-a700-20b36bc21765",
   "metadata": {},
   "outputs": [],
   "source": [
    "merged_data['fast_purchase']= merged_data['fast_purchase'].fillna(0)\n",
    "merged_data['fast_purchase'] = merged_data['fast_purchase'].astype(int)"
   ]
  },
  {
   "cell_type": "code",
   "execution_count": 77,
   "id": "3dc7a98c-d6a3-4c76-9c35-1239fb6798a3",
   "metadata": {},
   "outputs": [
    {
     "data": {
      "text/html": [
       "<div>\n",
       "<style scoped>\n",
       "    .dataframe tbody tr th:only-of-type {\n",
       "        vertical-align: middle;\n",
       "    }\n",
       "\n",
       "    .dataframe tbody tr th {\n",
       "        vertical-align: top;\n",
       "    }\n",
       "\n",
       "    .dataframe thead th {\n",
       "        text-align: right;\n",
       "    }\n",
       "</style>\n",
       "<table border=\"1\" class=\"dataframe\">\n",
       "  <thead>\n",
       "    <tr style=\"text-align: right;\">\n",
       "      <th></th>\n",
       "      <th>client_id</th>\n",
       "      <th>quantity</th>\n",
       "      <th>price</th>\n",
       "      <th>category_ids</th>\n",
       "      <th>date</th>\n",
       "      <th>message_id_x</th>\n",
       "      <th>category_str</th>\n",
       "      <th>cluster</th>\n",
       "      <th>year</th>\n",
       "      <th>month</th>\n",
       "      <th>day_of_week</th>\n",
       "      <th>bulk_campaign_id</th>\n",
       "      <th>message_id_y</th>\n",
       "      <th>event</th>\n",
       "      <th>channel</th>\n",
       "      <th>date_messages</th>\n",
       "      <th>created_at</th>\n",
       "      <th>fast_purchase</th>\n",
       "    </tr>\n",
       "  </thead>\n",
       "  <tbody>\n",
       "    <tr>\n",
       "      <th>0</th>\n",
       "      <td>1515915625468169594</td>\n",
       "      <td>1</td>\n",
       "      <td>1999.0</td>\n",
       "      <td>['4', '28', '57', '431']</td>\n",
       "      <td>2022-05-16</td>\n",
       "      <td>1515915625468169594-4301-627b661e9736d</td>\n",
       "      <td>[ ' 4 ' ,   ' 2 8 ' ,   ' 5 7 ' ,   ' 4 3 1 ' ]</td>\n",
       "      <td>4</td>\n",
       "      <td>2022</td>\n",
       "      <td>5</td>\n",
       "      <td>0</td>\n",
       "      <td>4463.0</td>\n",
       "      <td>1515915625468169594-4463-6285e40442c50</td>\n",
       "      <td>send</td>\n",
       "      <td>email</td>\n",
       "      <td>2022-05-19</td>\n",
       "      <td>2022-05-19 06:31:47</td>\n",
       "      <td>0</td>\n",
       "    </tr>\n",
       "    <tr>\n",
       "      <th>1</th>\n",
       "      <td>1515915625468169594</td>\n",
       "      <td>1</td>\n",
       "      <td>1999.0</td>\n",
       "      <td>['4', '28', '57', '431']</td>\n",
       "      <td>2022-05-16</td>\n",
       "      <td>1515915625468169594-4301-627b661e9736d</td>\n",
       "      <td>[ ' 4 ' ,   ' 2 8 ' ,   ' 5 7 ' ,   ' 4 3 1 ' ]</td>\n",
       "      <td>4</td>\n",
       "      <td>2022</td>\n",
       "      <td>5</td>\n",
       "      <td>0</td>\n",
       "      <td>4463.0</td>\n",
       "      <td>1515915625468169594-4463-6285e40442c50</td>\n",
       "      <td>open</td>\n",
       "      <td>email</td>\n",
       "      <td>2022-05-19</td>\n",
       "      <td>2022-05-19 08:02:13</td>\n",
       "      <td>0</td>\n",
       "    </tr>\n",
       "    <tr>\n",
       "      <th>2</th>\n",
       "      <td>1515915625468169594</td>\n",
       "      <td>1</td>\n",
       "      <td>1999.0</td>\n",
       "      <td>['4', '28', '57', '431']</td>\n",
       "      <td>2022-05-16</td>\n",
       "      <td>1515915625468169594-4301-627b661e9736d</td>\n",
       "      <td>[ ' 4 ' ,   ' 2 8 ' ,   ' 5 7 ' ,   ' 4 3 1 ' ]</td>\n",
       "      <td>4</td>\n",
       "      <td>2022</td>\n",
       "      <td>5</td>\n",
       "      <td>0</td>\n",
       "      <td>4568.0</td>\n",
       "      <td>1515915625468169594-4568-628ddb4b07e71</td>\n",
       "      <td>send</td>\n",
       "      <td>email</td>\n",
       "      <td>2022-05-25</td>\n",
       "      <td>2022-05-25 08:34:40</td>\n",
       "      <td>0</td>\n",
       "    </tr>\n",
       "    <tr>\n",
       "      <th>3</th>\n",
       "      <td>1515915625468169594</td>\n",
       "      <td>1</td>\n",
       "      <td>1999.0</td>\n",
       "      <td>['4', '28', '57', '431']</td>\n",
       "      <td>2022-05-16</td>\n",
       "      <td>1515915625468169594-4301-627b661e9736d</td>\n",
       "      <td>[ ' 4 ' ,   ' 2 8 ' ,   ' 5 7 ' ,   ' 4 3 1 ' ]</td>\n",
       "      <td>4</td>\n",
       "      <td>2022</td>\n",
       "      <td>5</td>\n",
       "      <td>0</td>\n",
       "      <td>4568.0</td>\n",
       "      <td>1515915625468169594-4568-628ddb4b07e71</td>\n",
       "      <td>open</td>\n",
       "      <td>email</td>\n",
       "      <td>2022-05-25</td>\n",
       "      <td>2022-05-25 08:41:54</td>\n",
       "      <td>0</td>\n",
       "    </tr>\n",
       "    <tr>\n",
       "      <th>4</th>\n",
       "      <td>1515915625468169594</td>\n",
       "      <td>1</td>\n",
       "      <td>1999.0</td>\n",
       "      <td>['4', '28', '57', '431']</td>\n",
       "      <td>2022-05-16</td>\n",
       "      <td>1515915625468169594-4301-627b661e9736d</td>\n",
       "      <td>[ ' 4 ' ,   ' 2 8 ' ,   ' 5 7 ' ,   ' 4 3 1 ' ]</td>\n",
       "      <td>4</td>\n",
       "      <td>2022</td>\n",
       "      <td>5</td>\n",
       "      <td>0</td>\n",
       "      <td>4591.0</td>\n",
       "      <td>1515915625468169594-4591-628f1e827259b</td>\n",
       "      <td>send</td>\n",
       "      <td>email</td>\n",
       "      <td>2022-05-26</td>\n",
       "      <td>2022-05-26 06:36:00</td>\n",
       "      <td>0</td>\n",
       "    </tr>\n",
       "  </tbody>\n",
       "</table>\n",
       "</div>"
      ],
      "text/plain": [
       "             client_id  quantity   price              category_ids       date  \\\n",
       "0  1515915625468169594         1  1999.0  ['4', '28', '57', '431'] 2022-05-16   \n",
       "1  1515915625468169594         1  1999.0  ['4', '28', '57', '431'] 2022-05-16   \n",
       "2  1515915625468169594         1  1999.0  ['4', '28', '57', '431'] 2022-05-16   \n",
       "3  1515915625468169594         1  1999.0  ['4', '28', '57', '431'] 2022-05-16   \n",
       "4  1515915625468169594         1  1999.0  ['4', '28', '57', '431'] 2022-05-16   \n",
       "\n",
       "                             message_id_x  \\\n",
       "0  1515915625468169594-4301-627b661e9736d   \n",
       "1  1515915625468169594-4301-627b661e9736d   \n",
       "2  1515915625468169594-4301-627b661e9736d   \n",
       "3  1515915625468169594-4301-627b661e9736d   \n",
       "4  1515915625468169594-4301-627b661e9736d   \n",
       "\n",
       "                                      category_str  cluster  year  month  \\\n",
       "0  [ ' 4 ' ,   ' 2 8 ' ,   ' 5 7 ' ,   ' 4 3 1 ' ]        4  2022      5   \n",
       "1  [ ' 4 ' ,   ' 2 8 ' ,   ' 5 7 ' ,   ' 4 3 1 ' ]        4  2022      5   \n",
       "2  [ ' 4 ' ,   ' 2 8 ' ,   ' 5 7 ' ,   ' 4 3 1 ' ]        4  2022      5   \n",
       "3  [ ' 4 ' ,   ' 2 8 ' ,   ' 5 7 ' ,   ' 4 3 1 ' ]        4  2022      5   \n",
       "4  [ ' 4 ' ,   ' 2 8 ' ,   ' 5 7 ' ,   ' 4 3 1 ' ]        4  2022      5   \n",
       "\n",
       "   day_of_week  bulk_campaign_id                            message_id_y  \\\n",
       "0            0            4463.0  1515915625468169594-4463-6285e40442c50   \n",
       "1            0            4463.0  1515915625468169594-4463-6285e40442c50   \n",
       "2            0            4568.0  1515915625468169594-4568-628ddb4b07e71   \n",
       "3            0            4568.0  1515915625468169594-4568-628ddb4b07e71   \n",
       "4            0            4591.0  1515915625468169594-4591-628f1e827259b   \n",
       "\n",
       "  event channel date_messages          created_at  fast_purchase  \n",
       "0  send   email    2022-05-19 2022-05-19 06:31:47              0  \n",
       "1  open   email    2022-05-19 2022-05-19 08:02:13              0  \n",
       "2  send   email    2022-05-25 2022-05-25 08:34:40              0  \n",
       "3  open   email    2022-05-25 2022-05-25 08:41:54              0  \n",
       "4  send   email    2022-05-26 2022-05-26 06:36:00              0  "
      ]
     },
     "execution_count": 77,
     "metadata": {},
     "output_type": "execute_result"
    }
   ],
   "source": [
    "merged_data.head()"
   ]
  },
  {
   "cell_type": "code",
   "execution_count": 78,
   "id": "4c98e6a6-80b2-459e-a3ea-047c6945792b",
   "metadata": {},
   "outputs": [
    {
     "name": "stdout",
     "output_type": "stream",
     "text": [
      "Клиентов, покупающие только в сезон: 4445\n"
     ]
    }
   ],
   "source": [
    "def find_strictly_seasonal_customers(df):\n",
    "    # Убедимся, что столбец с датой в формате datetime\n",
    "    df['date'] = pd.to_datetime(df['date'])\n",
    "    \n",
    "    # Определяем сезонные периоды для 2023 и 2024 годов\n",
    "    season_2023_start = pd.to_datetime('2023-02-15')\n",
    "    season_2023_end = pd.to_datetime('2023-05-15')\n",
    "    \n",
    "    season_2024_start = pd.to_datetime('2024-02-15')\n",
    "    season_2024_end = pd.to_datetime('2024-05-15')\n",
    "    \n",
    "    # Фильтрация данных по сезонным периодам\n",
    "    season_purchases_2023 = df[(df['date'] >= season_2023_start) & (df['date'] <= season_2023_end) & (df['event'] == 'purchase')]\n",
    "    season_purchases_2024 = df[(df['date'] >= season_2024_start) & (df['date'] <= season_2024_end) & (df['event'] == 'purchase')]\n",
    "    \n",
    "    # Объединяем сезонные данные\n",
    "    season_purchases = pd.concat([season_purchases_2023, season_purchases_2024])\n",
    "    \n",
    "    # Список клиентов, покупающих в сезон\n",
    "    season_customers = season_purchases['client_id'].unique()\n",
    "    \n",
    "    # Найдем всех клиентов, которые делали покупки в любое другое время\n",
    "    non_season_purchases = df[((df['date'] < season_2023_start) | (df['date'] > season_2023_end)) & \n",
    "                              ((df['date'] < season_2024_start) | (df['date'] > season_2024_end)) & \n",
    "                              (df['event'] == 'purchase')]\n",
    "    \n",
    "    # Список клиентов, которые делали покупки вне сезона\n",
    "    non_season_customers = non_season_purchases['client_id'].unique()\n",
    "    \n",
    "    # Убираем клиентов, которые покупали вне сезона, из списка сезонных покупателей\n",
    "    strictly_seasonal_customers = [client for client in season_customers if client not in non_season_customers]\n",
    "    \n",
    "    return strictly_seasonal_customers\n",
    "\n",
    "# Применение функции для выявления клиентов, которые покупают только в сезон\n",
    "strictly_seasonal_customers = find_strictly_seasonal_customers(merged_data)\n",
    "\n",
    "# Результат - список уникальных ID клиентов, которые покупают только в сезон\n",
    "print(\"Клиентов, покупающие только в сезон:\", len(strictly_seasonal_customers))\n"
   ]
  },
  {
   "cell_type": "code",
   "execution_count": 79,
   "id": "b52d330b-2d2f-4878-9454-0175be72c68d",
   "metadata": {},
   "outputs": [],
   "source": [
    "def add_seasonal_customer_column(df, strictly_seasonal_customers):\n",
    "    # Преобразуем список строго сезонных клиентов в set для ускорения поиска\n",
    "    seasonal_set = set(strictly_seasonal_customers)\n",
    "    \n",
    "    # Используем векторизированную операцию isin для создания бинарного признака\n",
    "    df['seasonal_customer'] = df['client_id'].isin(seasonal_set).astype(int)\n",
    "    \n",
    "    return df\n",
    "\n",
    "#вызов функции\n",
    "merged_data_with_seasonal = add_seasonal_customer_column(merged_data, strictly_seasonal_customers)"
   ]
  },
  {
   "cell_type": "code",
   "execution_count": 80,
   "id": "70536886-8e0e-40bf-8bce-9d561a519256",
   "metadata": {},
   "outputs": [],
   "source": [
    "merged_data_with_seasonal = merged_data_with_seasonal[['client_id', 'seasonal_customer']].drop_duplicates()"
   ]
  },
  {
   "cell_type": "code",
   "execution_count": 81,
   "id": "283671fe-fc2f-43e6-a9cb-1eb3b90408dc",
   "metadata": {},
   "outputs": [
    {
     "name": "stdout",
     "output_type": "stream",
     "text": [
      "<class 'pandas.core.frame.DataFrame'>\n",
      "Index: 49848 entries, 0 to 29050713\n",
      "Data columns (total 2 columns):\n",
      " #   Column             Non-Null Count  Dtype\n",
      "---  ------             --------------  -----\n",
      " 0   client_id          49848 non-null  int64\n",
      " 1   seasonal_customer  49848 non-null  int32\n",
      "dtypes: int32(1), int64(1)\n",
      "memory usage: 973.6 KB\n"
     ]
    }
   ],
   "source": [
    "merged_data_with_seasonal.info()"
   ]
  },
  {
   "cell_type": "code",
   "execution_count": 82,
   "id": "e95076c8-7cde-4764-b4b3-0eca432e213d",
   "metadata": {},
   "outputs": [
    {
     "data": {
      "text/html": [
       "<div>\n",
       "<style scoped>\n",
       "    .dataframe tbody tr th:only-of-type {\n",
       "        vertical-align: middle;\n",
       "    }\n",
       "\n",
       "    .dataframe tbody tr th {\n",
       "        vertical-align: top;\n",
       "    }\n",
       "\n",
       "    .dataframe thead th {\n",
       "        text-align: right;\n",
       "    }\n",
       "</style>\n",
       "<table border=\"1\" class=\"dataframe\">\n",
       "  <thead>\n",
       "    <tr style=\"text-align: right;\">\n",
       "      <th></th>\n",
       "      <th>client_id</th>\n",
       "      <th>seasonal_customer</th>\n",
       "    </tr>\n",
       "  </thead>\n",
       "  <tbody>\n",
       "    <tr>\n",
       "      <th>0</th>\n",
       "      <td>1515915625468169594</td>\n",
       "      <td>0</td>\n",
       "    </tr>\n",
       "    <tr>\n",
       "      <th>512</th>\n",
       "      <td>1515915625471138230</td>\n",
       "      <td>0</td>\n",
       "    </tr>\n",
       "    <tr>\n",
       "      <th>1070</th>\n",
       "      <td>1515915625471640575</td>\n",
       "      <td>0</td>\n",
       "    </tr>\n",
       "    <tr>\n",
       "      <th>1476</th>\n",
       "      <td>1515915625490211585</td>\n",
       "      <td>0</td>\n",
       "    </tr>\n",
       "    <tr>\n",
       "      <th>1693</th>\n",
       "      <td>1515915625490739153</td>\n",
       "      <td>0</td>\n",
       "    </tr>\n",
       "    <tr>\n",
       "      <th>...</th>\n",
       "      <td>...</td>\n",
       "      <td>...</td>\n",
       "    </tr>\n",
       "    <tr>\n",
       "      <th>29050702</th>\n",
       "      <td>1515915626010221592</td>\n",
       "      <td>0</td>\n",
       "    </tr>\n",
       "    <tr>\n",
       "      <th>29050708</th>\n",
       "      <td>1515915626010261344</td>\n",
       "      <td>0</td>\n",
       "    </tr>\n",
       "    <tr>\n",
       "      <th>29050711</th>\n",
       "      <td>1515915626010439406</td>\n",
       "      <td>0</td>\n",
       "    </tr>\n",
       "    <tr>\n",
       "      <th>29050712</th>\n",
       "      <td>1515915626010443527</td>\n",
       "      <td>0</td>\n",
       "    </tr>\n",
       "    <tr>\n",
       "      <th>29050713</th>\n",
       "      <td>1515915626010443624</td>\n",
       "      <td>0</td>\n",
       "    </tr>\n",
       "  </tbody>\n",
       "</table>\n",
       "<p>49848 rows × 2 columns</p>\n",
       "</div>"
      ],
      "text/plain": [
       "                    client_id  seasonal_customer\n",
       "0         1515915625468169594                  0\n",
       "512       1515915625471138230                  0\n",
       "1070      1515915625471640575                  0\n",
       "1476      1515915625490211585                  0\n",
       "1693      1515915625490739153                  0\n",
       "...                       ...                ...\n",
       "29050702  1515915626010221592                  0\n",
       "29050708  1515915626010261344                  0\n",
       "29050711  1515915626010439406                  0\n",
       "29050712  1515915626010443527                  0\n",
       "29050713  1515915626010443624                  0\n",
       "\n",
       "[49848 rows x 2 columns]"
      ]
     },
     "execution_count": 82,
     "metadata": {},
     "output_type": "execute_result"
    }
   ],
   "source": [
    "merged_data_with_seasonal"
   ]
  },
  {
   "cell_type": "code",
   "execution_count": 83,
   "id": "c072fd56-f569-4f00-abd5-6a5ed8684aa2",
   "metadata": {},
   "outputs": [
    {
     "name": "stdout",
     "output_type": "stream",
     "text": [
      "<class 'pandas.core.frame.DataFrame'>\n",
      "RangeIndex: 29050714 entries, 0 to 29050713\n",
      "Data columns (total 19 columns):\n",
      " #   Column             Dtype         \n",
      "---  ------             -----         \n",
      " 0   client_id          int64         \n",
      " 1   quantity           int64         \n",
      " 2   price              float64       \n",
      " 3   category_ids       object        \n",
      " 4   date               datetime64[ns]\n",
      " 5   message_id_x       object        \n",
      " 6   category_str       object        \n",
      " 7   cluster            int32         \n",
      " 8   year               int32         \n",
      " 9   month              int32         \n",
      " 10  day_of_week        int32         \n",
      " 11  bulk_campaign_id   float64       \n",
      " 12  message_id_y       object        \n",
      " 13  event              object        \n",
      " 14  channel            object        \n",
      " 15  date_messages      datetime64[ns]\n",
      " 16  created_at         datetime64[ns]\n",
      " 17  fast_purchase      int32         \n",
      " 18  seasonal_customer  int32         \n",
      "dtypes: datetime64[ns](3), float64(2), int32(6), int64(2), object(6)\n",
      "memory usage: 3.5+ GB\n"
     ]
    }
   ],
   "source": [
    "merged_data.info()"
   ]
  },
  {
   "cell_type": "code",
   "execution_count": 84,
   "id": "5460c50d-7902-4816-8234-d9c3a3a892f6",
   "metadata": {
    "scrolled": true
   },
   "outputs": [
    {
     "name": "stdout",
     "output_type": "stream",
     "text": [
      "Форма датафрейма: (49848, 6)\n",
      "\n",
      "Список колонок:\n",
      "['client_id', 'total_purchases', 'total_items', 'average_spent', 'most_popular_cluster', 'days_since_last_purchase']\n",
      "\n",
      "Пример первых строк:\n",
      "             client_id  total_purchases  total_items  average_spent  \\\n",
      "0  1515915625468060902              885          885     959.000000   \n",
      "1  1515915625468061003              990          990    2355.833333   \n",
      "2  1515915625468061099              276          276     299.000000   \n",
      "3  1515915625468061100              428          428    1049.000000   \n",
      "4  1515915625468061170             2051         2051    2013.571429   \n",
      "\n",
      "   most_popular_cluster  days_since_last_purchase  \n",
      "0                     1                       719  \n",
      "1                     0                       497  \n",
      "2                     1                       729  \n",
      "3                     4                        95  \n",
      "4                     5                       333  \n"
     ]
    }
   ],
   "source": [
    "def prepare_features(df):\n",
    "    # Задаем фиксированную дату для расчета дней с последней покупки\n",
    "    current_date = pd.Timestamp('2024-05-15')\n",
    "    \n",
    "    # Создаем поведенческие признаки для каждого клиента\n",
    "    customer_data = df.groupby('client_id').agg({\n",
    "        'date': ['count', 'max'],   # Количество покупок и последняя дата покупки\n",
    "        'quantity': 'sum',          # Общее количество товаров\n",
    "        'price': 'mean',            # Средняя стоимость покупки\n",
    "        'cluster': lambda x: x.mode()[0]  # Самый популярный кластер\n",
    "    }).reset_index()\n",
    "    \n",
    "    # Переименуем столбцы для удобства\n",
    "    customer_data.columns = ['client_id', 'total_purchases', 'last_purchase_date', 'total_items', 'average_spent', 'most_popular_cluster']\n",
    "    \n",
    "    # Добавляем признак \"дней с последней покупки\"\n",
    "    customer_data['days_since_last_purchase'] = (current_date - customer_data['last_purchase_date']).dt.days\n",
    "    \n",
    "    # Убираем временный столбец с датой последней покупки, если он не нужен для дальнейшего анализа\n",
    "    customer_data = customer_data.drop(columns=['last_purchase_date'])\n",
    "    \n",
    "    return customer_data\n",
    "\n",
    "# Извлечение признаков\n",
    "features = prepare_features(merged_data)\n",
    "\n",
    "# Проверка результатов\n",
    "print(\"Форма датафрейма:\", features.shape)\n",
    "print(\"\\nСписок колонок:\")\n",
    "print(features.columns.tolist())\n",
    "print(\"\\nПример первых строк:\")\n",
    "print(features.head())"
   ]
  },
  {
   "cell_type": "code",
   "execution_count": 85,
   "id": "2db55917-5662-4e02-bfc2-85530ae9eb95",
   "metadata": {},
   "outputs": [],
   "source": [
    "# Объединяем данные по client_id\n",
    "df = pd.merge(features, merged_data_with_seasonal, how='left', on='client_id')"
   ]
  },
  {
   "cell_type": "code",
   "execution_count": 86,
   "id": "23d27513-79b0-4155-a5e3-a3b7c0b7e81a",
   "metadata": {},
   "outputs": [],
   "source": [
    "final_table = pd.merge(df, apparel_target_binary, how='left', on='client_id')"
   ]
  },
  {
   "cell_type": "code",
   "execution_count": 87,
   "id": "9a0ab503-ed50-42eb-83c5-f8af111bfc0e",
   "metadata": {},
   "outputs": [
    {
     "data": {
      "text/plain": [
       "(49848, 8)"
      ]
     },
     "execution_count": 87,
     "metadata": {},
     "output_type": "execute_result"
    }
   ],
   "source": [
    "final_table.shape"
   ]
  },
  {
   "cell_type": "code",
   "execution_count": 88,
   "id": "36f3985d-3219-485a-b6a0-b0dd6a7b90eb",
   "metadata": {},
   "outputs": [
    {
     "data": {
      "text/html": [
       "<div>\n",
       "<style scoped>\n",
       "    .dataframe tbody tr th:only-of-type {\n",
       "        vertical-align: middle;\n",
       "    }\n",
       "\n",
       "    .dataframe tbody tr th {\n",
       "        vertical-align: top;\n",
       "    }\n",
       "\n",
       "    .dataframe thead th {\n",
       "        text-align: right;\n",
       "    }\n",
       "</style>\n",
       "<table border=\"1\" class=\"dataframe\">\n",
       "  <thead>\n",
       "    <tr style=\"text-align: right;\">\n",
       "      <th></th>\n",
       "      <th>client_id</th>\n",
       "      <th>total_purchases</th>\n",
       "      <th>total_items</th>\n",
       "      <th>average_spent</th>\n",
       "      <th>most_popular_cluster</th>\n",
       "      <th>days_since_last_purchase</th>\n",
       "      <th>seasonal_customer</th>\n",
       "      <th>target</th>\n",
       "    </tr>\n",
       "  </thead>\n",
       "  <tbody>\n",
       "    <tr>\n",
       "      <th>0</th>\n",
       "      <td>1515915625468060902</td>\n",
       "      <td>885</td>\n",
       "      <td>885</td>\n",
       "      <td>959.000000</td>\n",
       "      <td>1</td>\n",
       "      <td>719</td>\n",
       "      <td>0</td>\n",
       "      <td>0</td>\n",
       "    </tr>\n",
       "    <tr>\n",
       "      <th>1</th>\n",
       "      <td>1515915625468061003</td>\n",
       "      <td>990</td>\n",
       "      <td>990</td>\n",
       "      <td>2355.833333</td>\n",
       "      <td>0</td>\n",
       "      <td>497</td>\n",
       "      <td>0</td>\n",
       "      <td>1</td>\n",
       "    </tr>\n",
       "    <tr>\n",
       "      <th>2</th>\n",
       "      <td>1515915625468061099</td>\n",
       "      <td>276</td>\n",
       "      <td>276</td>\n",
       "      <td>299.000000</td>\n",
       "      <td>1</td>\n",
       "      <td>729</td>\n",
       "      <td>0</td>\n",
       "      <td>0</td>\n",
       "    </tr>\n",
       "    <tr>\n",
       "      <th>3</th>\n",
       "      <td>1515915625468061100</td>\n",
       "      <td>428</td>\n",
       "      <td>428</td>\n",
       "      <td>1049.000000</td>\n",
       "      <td>4</td>\n",
       "      <td>95</td>\n",
       "      <td>0</td>\n",
       "      <td>0</td>\n",
       "    </tr>\n",
       "    <tr>\n",
       "      <th>4</th>\n",
       "      <td>1515915625468061170</td>\n",
       "      <td>2051</td>\n",
       "      <td>2051</td>\n",
       "      <td>2013.571429</td>\n",
       "      <td>5</td>\n",
       "      <td>333</td>\n",
       "      <td>0</td>\n",
       "      <td>0</td>\n",
       "    </tr>\n",
       "  </tbody>\n",
       "</table>\n",
       "</div>"
      ],
      "text/plain": [
       "             client_id  total_purchases  total_items  average_spent  \\\n",
       "0  1515915625468060902              885          885     959.000000   \n",
       "1  1515915625468061003              990          990    2355.833333   \n",
       "2  1515915625468061099              276          276     299.000000   \n",
       "3  1515915625468061100              428          428    1049.000000   \n",
       "4  1515915625468061170             2051         2051    2013.571429   \n",
       "\n",
       "   most_popular_cluster  days_since_last_purchase  seasonal_customer  target  \n",
       "0                     1                       719                  0       0  \n",
       "1                     0                       497                  0       1  \n",
       "2                     1                       729                  0       0  \n",
       "3                     4                        95                  0       0  \n",
       "4                     5                       333                  0       0  "
      ]
     },
     "execution_count": 88,
     "metadata": {},
     "output_type": "execute_result"
    }
   ],
   "source": [
    "final_table.head()"
   ]
  },
  {
   "cell_type": "code",
   "execution_count": 89,
   "id": "581a6681-6770-4bb6-8f33-f35637ff0b49",
   "metadata": {},
   "outputs": [
    {
     "name": "stdout",
     "output_type": "stream",
     "text": [
      "<class 'pandas.core.frame.DataFrame'>\n",
      "RangeIndex: 49848 entries, 0 to 49847\n",
      "Data columns (total 8 columns):\n",
      " #   Column                    Non-Null Count  Dtype  \n",
      "---  ------                    --------------  -----  \n",
      " 0   client_id                 49848 non-null  int64  \n",
      " 1   total_purchases           49848 non-null  int64  \n",
      " 2   total_items               49848 non-null  int64  \n",
      " 3   average_spent             49848 non-null  float64\n",
      " 4   most_popular_cluster      49848 non-null  int32  \n",
      " 5   days_since_last_purchase  49848 non-null  int64  \n",
      " 6   seasonal_customer         49848 non-null  int32  \n",
      " 7   target                    49848 non-null  int64  \n",
      "dtypes: float64(1), int32(2), int64(5)\n",
      "memory usage: 2.7 MB\n"
     ]
    }
   ],
   "source": [
    "final_table.info()"
   ]
  },
  {
   "cell_type": "code",
   "execution_count": 90,
   "id": "4608dd9b-0c20-4ee0-ab69-85a98719380a",
   "metadata": {},
   "outputs": [
    {
     "data": {
      "text/html": [
       "<div>\n",
       "<style scoped>\n",
       "    .dataframe tbody tr th:only-of-type {\n",
       "        vertical-align: middle;\n",
       "    }\n",
       "\n",
       "    .dataframe tbody tr th {\n",
       "        vertical-align: top;\n",
       "    }\n",
       "\n",
       "    .dataframe thead th {\n",
       "        text-align: right;\n",
       "    }\n",
       "</style>\n",
       "<table border=\"1\" class=\"dataframe\">\n",
       "  <thead>\n",
       "    <tr style=\"text-align: right;\">\n",
       "      <th></th>\n",
       "      <th>client_id</th>\n",
       "      <th>total_purchases</th>\n",
       "      <th>total_items</th>\n",
       "      <th>average_spent</th>\n",
       "      <th>most_popular_cluster</th>\n",
       "      <th>days_since_last_purchase</th>\n",
       "      <th>seasonal_customer</th>\n",
       "      <th>target</th>\n",
       "    </tr>\n",
       "  </thead>\n",
       "  <tbody>\n",
       "    <tr>\n",
       "      <th>count</th>\n",
       "      <td>4.984800e+04</td>\n",
       "      <td>49848.000000</td>\n",
       "      <td>49848.000000</td>\n",
       "      <td>49848.000000</td>\n",
       "      <td>49848.000000</td>\n",
       "      <td>49848.00000</td>\n",
       "      <td>49848.000000</td>\n",
       "      <td>49848.000000</td>\n",
       "    </tr>\n",
       "    <tr>\n",
       "      <th>mean</th>\n",
       "      <td>1.515916e+18</td>\n",
       "      <td>582.785949</td>\n",
       "      <td>589.512618</td>\n",
       "      <td>1511.995616</td>\n",
       "      <td>3.065258</td>\n",
       "      <td>450.93418</td>\n",
       "      <td>0.089171</td>\n",
       "      <td>0.019279</td>\n",
       "    </tr>\n",
       "    <tr>\n",
       "      <th>std</th>\n",
       "      <td>1.487961e+08</td>\n",
       "      <td>1031.162617</td>\n",
       "      <td>1063.104731</td>\n",
       "      <td>1389.278093</td>\n",
       "      <td>2.769868</td>\n",
       "      <td>185.30265</td>\n",
       "      <td>0.284993</td>\n",
       "      <td>0.137504</td>\n",
       "    </tr>\n",
       "    <tr>\n",
       "      <th>min</th>\n",
       "      <td>1.515916e+18</td>\n",
       "      <td>1.000000</td>\n",
       "      <td>1.000000</td>\n",
       "      <td>1.000000</td>\n",
       "      <td>0.000000</td>\n",
       "      <td>89.00000</td>\n",
       "      <td>0.000000</td>\n",
       "      <td>0.000000</td>\n",
       "    </tr>\n",
       "    <tr>\n",
       "      <th>25%</th>\n",
       "      <td>1.515916e+18</td>\n",
       "      <td>111.000000</td>\n",
       "      <td>112.000000</td>\n",
       "      <td>699.000000</td>\n",
       "      <td>1.000000</td>\n",
       "      <td>322.00000</td>\n",
       "      <td>0.000000</td>\n",
       "      <td>0.000000</td>\n",
       "    </tr>\n",
       "    <tr>\n",
       "      <th>50%</th>\n",
       "      <td>1.515916e+18</td>\n",
       "      <td>299.000000</td>\n",
       "      <td>300.500000</td>\n",
       "      <td>1287.333333</td>\n",
       "      <td>3.000000</td>\n",
       "      <td>437.00000</td>\n",
       "      <td>0.000000</td>\n",
       "      <td>0.000000</td>\n",
       "    </tr>\n",
       "    <tr>\n",
       "      <th>75%</th>\n",
       "      <td>1.515916e+18</td>\n",
       "      <td>654.000000</td>\n",
       "      <td>660.000000</td>\n",
       "      <td>1999.000000</td>\n",
       "      <td>5.000000</td>\n",
       "      <td>631.00000</td>\n",
       "      <td>0.000000</td>\n",
       "      <td>0.000000</td>\n",
       "    </tr>\n",
       "    <tr>\n",
       "      <th>max</th>\n",
       "      <td>1.515916e+18</td>\n",
       "      <td>49408.000000</td>\n",
       "      <td>49408.000000</td>\n",
       "      <td>53499.000000</td>\n",
       "      <td>9.000000</td>\n",
       "      <td>730.00000</td>\n",
       "      <td>1.000000</td>\n",
       "      <td>1.000000</td>\n",
       "    </tr>\n",
       "  </tbody>\n",
       "</table>\n",
       "</div>"
      ],
      "text/plain": [
       "          client_id  total_purchases   total_items  average_spent  \\\n",
       "count  4.984800e+04     49848.000000  49848.000000   49848.000000   \n",
       "mean   1.515916e+18       582.785949    589.512618    1511.995616   \n",
       "std    1.487961e+08      1031.162617   1063.104731    1389.278093   \n",
       "min    1.515916e+18         1.000000      1.000000       1.000000   \n",
       "25%    1.515916e+18       111.000000    112.000000     699.000000   \n",
       "50%    1.515916e+18       299.000000    300.500000    1287.333333   \n",
       "75%    1.515916e+18       654.000000    660.000000    1999.000000   \n",
       "max    1.515916e+18     49408.000000  49408.000000   53499.000000   \n",
       "\n",
       "       most_popular_cluster  days_since_last_purchase  seasonal_customer  \\\n",
       "count          49848.000000               49848.00000       49848.000000   \n",
       "mean               3.065258                 450.93418           0.089171   \n",
       "std                2.769868                 185.30265           0.284993   \n",
       "min                0.000000                  89.00000           0.000000   \n",
       "25%                1.000000                 322.00000           0.000000   \n",
       "50%                3.000000                 437.00000           0.000000   \n",
       "75%                5.000000                 631.00000           0.000000   \n",
       "max                9.000000                 730.00000           1.000000   \n",
       "\n",
       "             target  \n",
       "count  49848.000000  \n",
       "mean       0.019279  \n",
       "std        0.137504  \n",
       "min        0.000000  \n",
       "25%        0.000000  \n",
       "50%        0.000000  \n",
       "75%        0.000000  \n",
       "max        1.000000  "
      ]
     },
     "execution_count": 90,
     "metadata": {},
     "output_type": "execute_result"
    }
   ],
   "source": [
    "final_table.describe()"
   ]
  },
  {
   "cell_type": "markdown",
   "id": "aa454e40-e407-4d1d-a0c2-9304f18fc834",
   "metadata": {},
   "source": [
    "*Вывод*\n",
    "\n",
    "Вот основные группы признаков которые мы создали:\n",
    "\n",
    "- Общее количество покупок (total purchases)\n",
    "- Общее количество товаров (total items)\n",
    "- Средняя сумма затрат на покупку (average spent)\n",
    "- Самый популярный кластер (most popular cluster)\n",
    "- Количество дней с момента последней покупки (days since last purchase)\n",
    "- Признак сезонности клиента (seasonal customer)"
   ]
  },
  {
   "cell_type": "code",
   "execution_count": 92,
   "id": "570f1563-a56d-4939-9a86-dd25b239add6",
   "metadata": {},
   "outputs": [
    {
     "data": {
      "image/png": "[encoded data removed]",
      "text/plain": [
       "<Figure size 1200x800 with 2 Axes>"
      ]
     },
     "metadata": {},
     "output_type": "display_data"
    }
   ],
   "source": [
    "# Указываем все числовые столбцы как interval_columns\n",
    "interval_columns = ['average_spent', 'total_items','days_since_last_purchase','total_purchases']\n",
    "\n",
    "# Вычисление корреляционной матрицы\n",
    "corr_matrix = final_table.drop(['client_id'], axis=1).phik_matrix(interval_cols=interval_columns)\n",
    "\n",
    "# Визуализация\n",
    "plt.figure(figsize=(12, 8))\n",
    "sns.heatmap(corr_matrix, \n",
    "            annot=True,  \n",
    "            fmt='.2f',   \n",
    "            cmap='coolwarm',\n",
    "            square=True\n",
    ")\n",
    "plt.title('Корреляционная матрица')\n",
    "plt.xticks(rotation=45, ha='right')\n",
    "plt.yticks(rotation=0)\n",
    "plt.tight_layout()\n",
    "plt.show()"
   ]
  },
  {
   "cell_type": "markdown",
   "id": "5df031a1-2ce3-423d-8905-d73e29b6b3e6",
   "metadata": {},
   "source": [
    "Корреляционный анализ выглядит не очень хорошо, кореляций не наблюдается."
   ]
  },
  {
   "cell_type": "markdown",
   "id": "fdea4b7c-ef77-46dd-9ced-6cdef2f3e362",
   "metadata": {},
   "source": [
    "## Обучение модели "
   ]
  },
  {
   "cell_type": "markdown",
   "id": "c5e15517-7066-438d-a733-8593d98f9909",
   "metadata": {},
   "source": [
    "Модели подходящие ддя этой задачи:\n",
    "\n",
    "- Random Forest\n",
    "- CatBoost\n",
    "- LightGBM"
   ]
  },
  {
   "cell_type": "code",
   "execution_count": 95,
   "id": "a105ecf7-0170-43b8-af63-6d02cac87fd0",
   "metadata": {},
   "outputs": [],
   "source": [
    "X_train, X_test, y_train, y_test = train_test_split(\n",
    "    final_table.drop(['client_id', 'target'], axis=1),\n",
    "    final_table['target'],\n",
    "    test_size=TEST_SIZE,\n",
    "    random_state=RANDOM_STATE,\n",
    "    stratify=final_table['target']\n",
    ")"
   ]
  },
  {
   "cell_type": "code",
   "execution_count": 96,
   "id": "3db6c190-2574-4250-8fdd-81a24ae86ed4",
   "metadata": {},
   "outputs": [],
   "source": [
    "num = ['average_spent', 'total_items', 'days_since_last_purchase', 'total_purchases']\n",
    "cat = ['seasonal_customer']\n",
    "\n",
    "preprocessor_lr = ColumnTransformer([\n",
    "    ('num', StandardScaler(), num),\n",
    "    ('cat', OneHotEncoder(handle_unknown='ignore'), cat)\n",
    "])\n",
    "\n",
    "preprocessor_boost = ColumnTransformer([\n",
    "    ('num', 'passthrough', num),\n",
    "    ('cat', OrdinalEncoder(handle_unknown='use_encoded_value', unknown_value=-1), cat)\n",
    "])\n",
    "\n",
    "oe_preprocessor = ColumnTransformer([\n",
    "    ('num', StandardScaler(), num),\n",
    "    ('cat', OrdinalEncoder(), cat)\n",
    "], remainder='passthrough')"
   ]
  },
  {
   "cell_type": "code",
   "execution_count": 118,
   "id": "77b912df-e23d-46a6-9754-c81299dd8a3c",
   "metadata": {},
   "outputs": [],
   "source": [
    "models = {\n",
    "    'RandomForestClassifier': (RandomForestClassifier(), oe_preprocessor),\n",
    "    'CatBoostClassifier': (CatBoostClassifier(verbose=0, random_state=RANDOM_STATE), preprocessor_boost),\n",
    "    'LGBMClassifier': (LGBMClassifier(random_state=RANDOM_STATE), preprocessor_boost)\n",
    "}\n",
    "\n",
    "param_dist = [\n",
    "    {\n",
    "        'models': [CatBoostClassifier(random_state=RANDOM_STATE, verbose=0)],\n",
    "        'models__iterations': [50, 100],\n",
    "        'models__depth': [3, 5, 7],\n",
    "        'models__learning_rate': [0.01, 0.1, 0.2],\n",
    "        'models__scale_pos_weight': [1, 5, 10],\n",
    "        'preprocessor': [preprocessor_boost]\n",
    "    },\n",
    "    {\n",
    "        'models': [LGBMClassifier(random_state=RANDOM_STATE)],\n",
    "        'models__n_estimators': [50],\n",
    "        'models__max_depth': [3, 5],\n",
    "        'preprocessor': [preprocessor_boost]\n",
    "    },\n",
    "    {\n",
    "        'models': [RandomForestClassifier(random_state=RANDOM_STATE, class_weight='balanced')],\n",
    "        'models__n_estimators': [50, 100, 200],\n",
    "        'models__max_depth': [10, 15, 20],\n",
    "        'models__min_samples_split': [10, 50],\n",
    "        'models__min_samples_leaf': [5, 20],\n",
    "        'models__max_features': ['sqrt', 'log2'],\n",
    "        'preprocessor': [oe_preprocessor]\n",
    "    }\n",
    "]"
   ]
  },
  {
   "cell_type": "code",
   "execution_count": 120,
   "id": "fbf8c642-1d56-42a5-a9b2-1f4947785343",
   "metadata": {},
   "outputs": [],
   "source": [
    "pipe_final = Pipeline([\n",
    "    ('preprocessor', 'passthrough'),  # Временный \"заглушка\", которую `GridSearchCV` заменит нужным препроцессором\n",
    "    ('models', RandomForestClassifier(random_state=RANDOM_STATE))  # Начальная модель, которая будет заменена конкретными моделями в `param_dist`\n",
    "])"
   ]
  },
  {
   "cell_type": "code",
   "execution_count": 124,
   "id": "19fe676e-358f-4317-bbaa-0f43192337ab",
   "metadata": {},
   "outputs": [],
   "source": [
    "def optimize_memory_usage(df: pd.DataFrame, print_size: bool = True) -> pd.DataFrame:\n",
    "    '''\n",
    "    Функция оптимизирует использование памяти в DataFrame.\n",
    "    df: pd.DataFrame - таблица данных\n",
    "    print_size: bool - вывод результатов оптимизации\n",
    "    return pd.DataFrame - оптимизированный DataFrame\n",
    "    '''\n",
    "    # Словари с диапазонами для целых чисел и чисел с плавающей точкой\n",
    "    int_types = {\n",
    "        'int8': (np.iinfo(np.int8).min, np.iinfo(np.int8).max),\n",
    "        'int16': (np.iinfo(np.int16).min, np.iinfo(np.int16).max),\n",
    "        'int32': (np.iinfo(np.int32).min, np.iinfo(np.int32).max),\n",
    "        'int64': (np.iinfo(np.int64).min, np.iinfo(np.int64).max)\n",
    "    }\n",
    "    float_types = {\n",
    "        'float32': (np.finfo(np.float32).min, np.finfo(np.float32).max),\n",
    "        'float64': (np.finfo(np.float64).min, np.finfo(np.float64).max)\n",
    "    }\n",
    "\n",
    "    # Размер памяти до оптимизации\n",
    "    before_size = df.memory_usage().sum() / 1024**2\n",
    "\n",
    "    # Оптимизация типов данных\n",
    "    for column in df.columns:\n",
    "        col_type = df[column].dtypes\n",
    "        \n",
    "        if col_type in ['int64', 'int32', 'int16']:\n",
    "            col_min, col_max = df[column].min(), df[column].max()\n",
    "            for dtype, (min_val, max_val) in int_types.items():\n",
    "                if min_val <= col_min <= col_max <= max_val:\n",
    "                    df[column] = df[column].astype(dtype)\n",
    "                    break\n",
    "        \n",
    "        elif col_type in ['float64', 'float32']:\n",
    "            col_min, col_max = df[column].min(), df[column].max()\n",
    "            for dtype, (min_val, max_val) in float_types.items():\n",
    "                if min_val <= col_min <= col_max:\n",
    "                    df[column] = df[column].astype(dtype)\n",
    "                    break\n",
    "                    \n",
    "        elif col_type == 'object':\n",
    "            unique_count = df[column].nunique()\n",
    "            total_count = len(df[column])\n",
    "            if unique_count / total_count < 0.5:\n",
    "                df[column] = df[column].astype('category')\n",
    "\n",
    "    # Размер памяти после оптимизации\n",
    "    after_size = df.memory_usage().sum() / 1024**2\n",
    "    \n",
    "    if print_size:\n",
    "        print(f'Использование памяти: до оптимизации {before_size:.2f} Mb, после {after_size:.2f} Mb ({100 * (before_size - after_size) / before_size:.1f}% уменьшение)')\n",
    "\n",
    "    return df"
   ]
  },
  {
   "cell_type": "code",
   "execution_count": 126,
   "id": "26172d16-37ef-4ff0-b3d1-fea512de3f05",
   "metadata": {},
   "outputs": [
    {
     "name": "stdout",
     "output_type": "stream",
     "text": [
      "Использование памяти: до оптимизации 2.66 Mb, после 1.19 Mb (55.4% уменьшение)\n"
     ]
    }
   ],
   "source": [
    "optimized_df = optimize_memory_usage(final_table)"
   ]
  },
  {
   "cell_type": "code",
   "execution_count": 128,
   "id": "caa09b07-b340-45e7-b157-e7cdf119827e",
   "metadata": {},
   "outputs": [
    {
     "name": "stdout",
     "output_type": "stream",
     "text": [
      "Fitting 3 folds for each of 128 candidates, totalling 384 fits\n"
     ]
    },
    {
     "data": {
      "text/html": [
       "<style>#sk-container-id-2 {\n",
       "  /* Definition of color scheme common for light and dark mode */\n",
       "  --sklearn-color-text: black;\n",
       "  --sklearn-color-line: gray;\n",
       "  /* Definition of color scheme for unfitted estimators */\n",
       "  --sklearn-color-unfitted-level-0: #fff5e6;\n",
       "  --sklearn-color-unfitted-level-1: #f6e4d2;\n",
       "  --sklearn-color-unfitted-level-2: #ffe0b3;\n",
       "  --sklearn-color-unfitted-level-3: chocolate;\n",
       "  /* Definition of color scheme for fitted estimators */\n",
       "  --sklearn-color-fitted-level-0: #f0f8ff;\n",
       "  --sklearn-color-fitted-level-1: #d4ebff;\n",
       "  --sklearn-color-fitted-level-2: #b3dbfd;\n",
       "  --sklearn-color-fitted-level-3: cornflowerblue;\n",
       "\n",
       "  /* Specific color for light theme */\n",
       "  --sklearn-color-text-on-default-background: var(--sg-text-color, var(--theme-code-foreground, var(--jp-content-font-color1, black)));\n",
       "  --sklearn-color-background: var(--sg-background-color, var(--theme-background, var(--jp-layout-color0, white)));\n",
       "  --sklearn-color-border-box: var(--sg-text-color, var(--theme-code-foreground, var(--jp-content-font-color1, black)));\n",
       "  --sklearn-color-icon: #696969;\n",
       "\n",
       "  @media (prefers-color-scheme: dark) {\n",
       "    /* Redefinition of color scheme for dark theme */\n",
       "    --sklearn-color-text-on-default-background: var(--sg-text-color, var(--theme-code-foreground, var(--jp-content-font-color1, white)));\n",
       "    --sklearn-color-background: var(--sg-background-color, var(--theme-background, var(--jp-layout-color0, #111)));\n",
       "    --sklearn-color-border-box: var(--sg-text-color, var(--theme-code-foreground, var(--jp-content-font-color1, white)));\n",
       "    --sklearn-color-icon: #878787;\n",
       "  }\n",
       "}\n",
       "\n",
       "#sk-container-id-2 {\n",
       "  color: var(--sklearn-color-text);\n",
       "}\n",
       "\n",
       "#sk-container-id-2 pre {\n",
       "  padding: 0;\n",
       "}\n",
       "\n",
       "#sk-container-id-2 input.sk-hidden--visually {\n",
       "  border: 0;\n",
       "  clip: rect(1px 1px 1px 1px);\n",
       "  clip: rect(1px, 1px, 1px, 1px);\n",
       "  height: 1px;\n",
       "  margin: -1px;\n",
       "  overflow: hidden;\n",
       "  padding: 0;\n",
       "  position: absolute;\n",
       "  width: 1px;\n",
       "}\n",
       "\n",
       "#sk-container-id-2 div.sk-dashed-wrapped {\n",
       "  border: 1px dashed var(--sklearn-color-line);\n",
       "  margin: 0 0.4em 0.5em 0.4em;\n",
       "  box-sizing: border-box;\n",
       "  padding-bottom: 0.4em;\n",
       "  background-color: var(--sklearn-color-background);\n",
       "}\n",
       "\n",
       "#sk-container-id-2 div.sk-container {\n",
       "  /* jupyter's `normalize.less` sets `[hidden] { display: none; }`\n",
       "     but bootstrap.min.css set `[hidden] { display: none !important; }`\n",
       "     so we also need the `!important` here to be able to override the\n",
       "     default hidden behavior on the sphinx rendered scikit-learn.org.\n",
       "     See: https://github.com/scikit-learn/scikit-learn/issues/21755 */\n",
       "  display: inline-block !important;\n",
       "  position: relative;\n",
       "}\n",
       "\n",
       "#sk-container-id-2 div.sk-text-repr-fallback {\n",
       "  display: none;\n",
       "}\n",
       "\n",
       "div.sk-parallel-item,\n",
       "div.sk-serial,\n",
       "div.sk-item {\n",
       "  /* draw centered vertical line to link estimators */\n",
       "  background-image: linear-gradient(var(--sklearn-color-text-on-default-background), var(--sklearn-color-text-on-default-background));\n",
       "  background-size: 2px 100%;\n",
       "  background-repeat: no-repeat;\n",
       "  background-position: center center;\n",
       "}\n",
       "\n",
       "/* Parallel-specific style estimator block */\n",
       "\n",
       "#sk-container-id-2 div.sk-parallel-item::after {\n",
       "  content: \"\";\n",
       "  width: 100%;\n",
       "  border-bottom: 2px solid var(--sklearn-color-text-on-default-background);\n",
       "  flex-grow: 1;\n",
       "}\n",
       "\n",
       "#sk-container-id-2 div.sk-parallel {\n",
       "  display: flex;\n",
       "  align-items: stretch;\n",
       "  justify-content: center;\n",
       "  background-color: var(--sklearn-color-background);\n",
       "  position: relative;\n",
       "}\n",
       "\n",
       "#sk-container-id-2 div.sk-parallel-item {\n",
       "  display: flex;\n",
       "  flex-direction: column;\n",
       "}\n",
       "\n",
       "#sk-container-id-2 div.sk-parallel-item:first-child::after {\n",
       "  align-self: flex-end;\n",
       "  width: 50%;\n",
       "}\n",
       "\n",
       "#sk-container-id-2 div.sk-parallel-item:last-child::after {\n",
       "  align-self: flex-start;\n",
       "  width: 50%;\n",
       "}\n",
       "\n",
       "#sk-container-id-2 div.sk-parallel-item:only-child::after {\n",
       "  width: 0;\n",
       "}\n",
       "\n",
       "/* Serial-specific style estimator block */\n",
       "\n",
       "#sk-container-id-2 div.sk-serial {\n",
       "  display: flex;\n",
       "  flex-direction: column;\n",
       "  align-items: center;\n",
       "  background-color: var(--sklearn-color-background);\n",
       "  padding-right: 1em;\n",
       "  padding-left: 1em;\n",
       "}\n",
       "\n",
       "\n",
       "/* Toggleable style: style used for estimator/Pipeline/ColumnTransformer box that is\n",
       "clickable and can be expanded/collapsed.\n",
       "- Pipeline and ColumnTransformer use this feature and define the default style\n",
       "- Estimators will overwrite some part of the style using the `sk-estimator` class\n",
       "*/\n",
       "\n",
       "/* Pipeline and ColumnTransformer style (default) */\n",
       "\n",
       "#sk-container-id-2 div.sk-toggleable {\n",
       "  /* Default theme specific background. It is overwritten whether we have a\n",
       "  specific estimator or a Pipeline/ColumnTransformer */\n",
       "  background-color: var(--sklearn-color-background);\n",
       "}\n",
       "\n",
       "/* Toggleable label */\n",
       "#sk-container-id-2 label.sk-toggleable__label {\n",
       "  cursor: pointer;\n",
       "  display: block;\n",
       "  width: 100%;\n",
       "  margin-bottom: 0;\n",
       "  padding: 0.5em;\n",
       "  box-sizing: border-box;\n",
       "  text-align: center;\n",
       "}\n",
       "\n",
       "#sk-container-id-2 label.sk-toggleable__label-arrow:before {\n",
       "  /* Arrow on the left of the label */\n",
       "  content: \"▸\";\n",
       "  float: left;\n",
       "  margin-right: 0.25em;\n",
       "  color: var(--sklearn-color-icon);\n",
       "}\n",
       "\n",
       "#sk-container-id-2 label.sk-toggleable__label-arrow:hover:before {\n",
       "  color: var(--sklearn-color-text);\n",
       "}\n",
       "\n",
       "/* Toggleable content - dropdown */\n",
       "\n",
       "#sk-container-id-2 div.sk-toggleable__content {\n",
       "  max-height: 0;\n",
       "  max-width: 0;\n",
       "  overflow: hidden;\n",
       "  text-align: left;\n",
       "  /* unfitted */\n",
       "  background-color: var(--sklearn-color-unfitted-level-0);\n",
       "}\n",
       "\n",
       "#sk-container-id-2 div.sk-toggleable__content.fitted {\n",
       "  /* fitted */\n",
       "  background-color: var(--sklearn-color-fitted-level-0);\n",
       "}\n",
       "\n",
       "#sk-container-id-2 div.sk-toggleable__content pre {\n",
       "  margin: 0.2em;\n",
       "  border-radius: 0.25em;\n",
       "  color: var(--sklearn-color-text);\n",
       "  /* unfitted */\n",
       "  background-color: var(--sklearn-color-unfitted-level-0);\n",
       "}\n",
       "\n",
       "#sk-container-id-2 div.sk-toggleable__content.fitted pre {\n",
       "  /* unfitted */\n",
       "  background-color: var(--sklearn-color-fitted-level-0);\n",
       "}\n",
       "\n",
       "#sk-container-id-2 input.sk-toggleable__control:checked~div.sk-toggleable__content {\n",
       "  /* Expand drop-down */\n",
       "  max-height: 200px;\n",
       "  max-width: 100%;\n",
       "  overflow: auto;\n",
       "}\n",
       "\n",
       "#sk-container-id-2 input.sk-toggleable__control:checked~label.sk-toggleable__label-arrow:before {\n",
       "  content: \"▾\";\n",
       "}\n",
       "\n",
       "/* Pipeline/ColumnTransformer-specific style */\n",
       "\n",
       "#sk-container-id-2 div.sk-label input.sk-toggleable__control:checked~label.sk-toggleable__label {\n",
       "  color: var(--sklearn-color-text);\n",
       "  background-color: var(--sklearn-color-unfitted-level-2);\n",
       "}\n",
       "\n",
       "#sk-container-id-2 div.sk-label.fitted input.sk-toggleable__control:checked~label.sk-toggleable__label {\n",
       "  background-color: var(--sklearn-color-fitted-level-2);\n",
       "}\n",
       "\n",
       "/* Estimator-specific style */\n",
       "\n",
       "/* Colorize estimator box */\n",
       "#sk-container-id-2 div.sk-estimator input.sk-toggleable__control:checked~label.sk-toggleable__label {\n",
       "  /* unfitted */\n",
       "  background-color: var(--sklearn-color-unfitted-level-2);\n",
       "}\n",
       "\n",
       "#sk-container-id-2 div.sk-estimator.fitted input.sk-toggleable__control:checked~label.sk-toggleable__label {\n",
       "  /* fitted */\n",
       "  background-color: var(--sklearn-color-fitted-level-2);\n",
       "}\n",
       "\n",
       "#sk-container-id-2 div.sk-label label.sk-toggleable__label,\n",
       "#sk-container-id-2 div.sk-label label {\n",
       "  /* The background is the default theme color */\n",
       "  color: var(--sklearn-color-text-on-default-background);\n",
       "}\n",
       "\n",
       "/* On hover, darken the color of the background */\n",
       "#sk-container-id-2 div.sk-label:hover label.sk-toggleable__label {\n",
       "  color: var(--sklearn-color-text);\n",
       "  background-color: var(--sklearn-color-unfitted-level-2);\n",
       "}\n",
       "\n",
       "/* Label box, darken color on hover, fitted */\n",
       "#sk-container-id-2 div.sk-label.fitted:hover label.sk-toggleable__label.fitted {\n",
       "  color: var(--sklearn-color-text);\n",
       "  background-color: var(--sklearn-color-fitted-level-2);\n",
       "}\n",
       "\n",
       "/* Estimator label */\n",
       "\n",
       "#sk-container-id-2 div.sk-label label {\n",
       "  font-family: monospace;\n",
       "  font-weight: bold;\n",
       "  display: inline-block;\n",
       "  line-height: 1.2em;\n",
       "}\n",
       "\n",
       "#sk-container-id-2 div.sk-label-container {\n",
       "  text-align: center;\n",
       "}\n",
       "\n",
       "/* Estimator-specific */\n",
       "#sk-container-id-2 div.sk-estimator {\n",
       "  font-family: monospace;\n",
       "  border: 1px dotted var(--sklearn-color-border-box);\n",
       "  border-radius: 0.25em;\n",
       "  box-sizing: border-box;\n",
       "  margin-bottom: 0.5em;\n",
       "  /* unfitted */\n",
       "  background-color: var(--sklearn-color-unfitted-level-0);\n",
       "}\n",
       "\n",
       "#sk-container-id-2 div.sk-estimator.fitted {\n",
       "  /* fitted */\n",
       "  background-color: var(--sklearn-color-fitted-level-0);\n",
       "}\n",
       "\n",
       "/* on hover */\n",
       "#sk-container-id-2 div.sk-estimator:hover {\n",
       "  /* unfitted */\n",
       "  background-color: var(--sklearn-color-unfitted-level-2);\n",
       "}\n",
       "\n",
       "#sk-container-id-2 div.sk-estimator.fitted:hover {\n",
       "  /* fitted */\n",
       "  background-color: var(--sklearn-color-fitted-level-2);\n",
       "}\n",
       "\n",
       "/* Specification for estimator info (e.g. \"i\" and \"?\") */\n",
       "\n",
       "/* Common style for \"i\" and \"?\" */\n",
       "\n",
       ".sk-estimator-doc-link,\n",
       "a:link.sk-estimator-doc-link,\n",
       "a:visited.sk-estimator-doc-link {\n",
       "  float: right;\n",
       "  font-size: smaller;\n",
       "  line-height: 1em;\n",
       "  font-family: monospace;\n",
       "  background-color: var(--sklearn-color-background);\n",
       "  border-radius: 1em;\n",
       "  height: 1em;\n",
       "  width: 1em;\n",
       "  text-decoration: none !important;\n",
       "  margin-left: 1ex;\n",
       "  /* unfitted */\n",
       "  border: var(--sklearn-color-unfitted-level-1) 1pt solid;\n",
       "  color: var(--sklearn-color-unfitted-level-1);\n",
       "}\n",
       "\n",
       ".sk-estimator-doc-link.fitted,\n",
       "a:link.sk-estimator-doc-link.fitted,\n",
       "a:visited.sk-estimator-doc-link.fitted {\n",
       "  /* fitted */\n",
       "  border: var(--sklearn-color-fitted-level-1) 1pt solid;\n",
       "  color: var(--sklearn-color-fitted-level-1);\n",
       "}\n",
       "\n",
       "/* On hover */\n",
       "div.sk-estimator:hover .sk-estimator-doc-link:hover,\n",
       ".sk-estimator-doc-link:hover,\n",
       "div.sk-label-container:hover .sk-estimator-doc-link:hover,\n",
       ".sk-estimator-doc-link:hover {\n",
       "  /* unfitted */\n",
       "  background-color: var(--sklearn-color-unfitted-level-3);\n",
       "  color: var(--sklearn-color-background);\n",
       "  text-decoration: none;\n",
       "}\n",
       "\n",
       "div.sk-estimator.fitted:hover .sk-estimator-doc-link.fitted:hover,\n",
       ".sk-estimator-doc-link.fitted:hover,\n",
       "div.sk-label-container:hover .sk-estimator-doc-link.fitted:hover,\n",
       ".sk-estimator-doc-link.fitted:hover {\n",
       "  /* fitted */\n",
       "  background-color: var(--sklearn-color-fitted-level-3);\n",
       "  color: var(--sklearn-color-background);\n",
       "  text-decoration: none;\n",
       "}\n",
       "\n",
       "/* Span, style for the box shown on hovering the info icon */\n",
       ".sk-estimator-doc-link span {\n",
       "  display: none;\n",
       "  z-index: 9999;\n",
       "  position: relative;\n",
       "  font-weight: normal;\n",
       "  right: .2ex;\n",
       "  padding: .5ex;\n",
       "  margin: .5ex;\n",
       "  width: min-content;\n",
       "  min-width: 20ex;\n",
       "  max-width: 50ex;\n",
       "  color: var(--sklearn-color-text);\n",
       "  box-shadow: 2pt 2pt 4pt #999;\n",
       "  /* unfitted */\n",
       "  background: var(--sklearn-color-unfitted-level-0);\n",
       "  border: .5pt solid var(--sklearn-color-unfitted-level-3);\n",
       "}\n",
       "\n",
       ".sk-estimator-doc-link.fitted span {\n",
       "  /* fitted */\n",
       "  background: var(--sklearn-color-fitted-level-0);\n",
       "  border: var(--sklearn-color-fitted-level-3);\n",
       "}\n",
       "\n",
       ".sk-estimator-doc-link:hover span {\n",
       "  display: block;\n",
       "}\n",
       "\n",
       "/* \"?\"-specific style due to the `<a>` HTML tag */\n",
       "\n",
       "#sk-container-id-2 a.estimator_doc_link {\n",
       "  float: right;\n",
       "  font-size: 1rem;\n",
       "  line-height: 1em;\n",
       "  font-family: monospace;\n",
       "  background-color: var(--sklearn-color-background);\n",
       "  border-radius: 1rem;\n",
       "  height: 1rem;\n",
       "  width: 1rem;\n",
       "  text-decoration: none;\n",
       "  /* unfitted */\n",
       "  color: var(--sklearn-color-unfitted-level-1);\n",
       "  border: var(--sklearn-color-unfitted-level-1) 1pt solid;\n",
       "}\n",
       "\n",
       "#sk-container-id-2 a.estimator_doc_link.fitted {\n",
       "  /* fitted */\n",
       "  border: var(--sklearn-color-fitted-level-1) 1pt solid;\n",
       "  color: var(--sklearn-color-fitted-level-1);\n",
       "}\n",
       "\n",
       "/* On hover */\n",
       "#sk-container-id-2 a.estimator_doc_link:hover {\n",
       "  /* unfitted */\n",
       "  background-color: var(--sklearn-color-unfitted-level-3);\n",
       "  color: var(--sklearn-color-background);\n",
       "  text-decoration: none;\n",
       "}\n",
       "\n",
       "#sk-container-id-2 a.estimator_doc_link.fitted:hover {\n",
       "  /* fitted */\n",
       "  background-color: var(--sklearn-color-fitted-level-3);\n",
       "}\n",
       "</style><div id=\"sk-container-id-2\" class=\"sk-top-container\"><div class=\"sk-text-repr-fallback\"><pre>GridSearchCV(cv=3,\n",
       "             estimator=Pipeline(steps=[(&#x27;preprocessor&#x27;, &#x27;passthrough&#x27;),\n",
       "                                       (&#x27;models&#x27;,\n",
       "                                        RandomForestClassifier(random_state=42))]),\n",
       "             n_jobs=-1,\n",
       "             param_grid=[{&#x27;models&#x27;: [&lt;catboost.core.CatBoostClassifier object at 0x000001F786AB4CE0&gt;],\n",
       "                          &#x27;models__depth&#x27;: [3, 5, 7],\n",
       "                          &#x27;models__iterations&#x27;: [50, 100],\n",
       "                          &#x27;models__learning_rate&#x27;: [0.01, 0.1, 0.2],\n",
       "                          &#x27;models__scale_pos_weight&#x27;: [1, 5, 10...\n",
       "                          &#x27;models__min_samples_leaf&#x27;: [5, 20],\n",
       "                          &#x27;models__min_samples_split&#x27;: [10, 50],\n",
       "                          &#x27;models__n_estimators&#x27;: [50, 100, 200],\n",
       "                          &#x27;preprocessor&#x27;: [ColumnTransformer(remainder=&#x27;passthrough&#x27;,\n",
       "                                                             transformers=[(&#x27;num&#x27;,\n",
       "                                                                            StandardScaler(),\n",
       "                                                                            [&#x27;average_spent&#x27;,\n",
       "                                                                             &#x27;total_items&#x27;,\n",
       "                                                                             &#x27;days_since_last_purchase&#x27;,\n",
       "                                                                             &#x27;total_purchases&#x27;]),\n",
       "                                                                           (&#x27;cat&#x27;,\n",
       "                                                                            OrdinalEncoder(),\n",
       "                                                                            [&#x27;seasonal_customer&#x27;])])]}],\n",
       "             scoring=&#x27;roc_auc&#x27;, verbose=10)</pre><b>In a Jupyter environment, please rerun this cell to show the HTML representation or trust the notebook. <br />On GitHub, the HTML representation is unable to render, please try loading this page with nbviewer.org.</b></div><div class=\"sk-container\" hidden><div class=\"sk-item sk-dashed-wrapped\"><div class=\"sk-label-container\"><div class=\"sk-label fitted sk-toggleable\"><input class=\"sk-toggleable__control sk-hidden--visually\" id=\"sk-estimator-id-9\" type=\"checkbox\" ><label for=\"sk-estimator-id-9\" class=\"sk-toggleable__label fitted sk-toggleable__label-arrow fitted\">&nbsp;&nbsp;GridSearchCV<a class=\"sk-estimator-doc-link fitted\" rel=\"noreferrer\" target=\"_blank\" href=\"https://scikit-learn.org/1.5/modules/generated/sklearn.model_selection.GridSearchCV.html\">?<span>Documentation for GridSearchCV</span></a><span class=\"sk-estimator-doc-link fitted\">i<span>Fitted</span></span></label><div class=\"sk-toggleable__content fitted\"><pre>GridSearchCV(cv=3,\n",
       "             estimator=Pipeline(steps=[(&#x27;preprocessor&#x27;, &#x27;passthrough&#x27;),\n",
       "                                       (&#x27;models&#x27;,\n",
       "                                        RandomForestClassifier(random_state=42))]),\n",
       "             n_jobs=-1,\n",
       "             param_grid=[{&#x27;models&#x27;: [&lt;catboost.core.CatBoostClassifier object at 0x000001F786AB4CE0&gt;],\n",
       "                          &#x27;models__depth&#x27;: [3, 5, 7],\n",
       "                          &#x27;models__iterations&#x27;: [50, 100],\n",
       "                          &#x27;models__learning_rate&#x27;: [0.01, 0.1, 0.2],\n",
       "                          &#x27;models__scale_pos_weight&#x27;: [1, 5, 10...\n",
       "                          &#x27;models__min_samples_leaf&#x27;: [5, 20],\n",
       "                          &#x27;models__min_samples_split&#x27;: [10, 50],\n",
       "                          &#x27;models__n_estimators&#x27;: [50, 100, 200],\n",
       "                          &#x27;preprocessor&#x27;: [ColumnTransformer(remainder=&#x27;passthrough&#x27;,\n",
       "                                                             transformers=[(&#x27;num&#x27;,\n",
       "                                                                            StandardScaler(),\n",
       "                                                                            [&#x27;average_spent&#x27;,\n",
       "                                                                             &#x27;total_items&#x27;,\n",
       "                                                                             &#x27;days_since_last_purchase&#x27;,\n",
       "                                                                             &#x27;total_purchases&#x27;]),\n",
       "                                                                           (&#x27;cat&#x27;,\n",
       "                                                                            OrdinalEncoder(),\n",
       "                                                                            [&#x27;seasonal_customer&#x27;])])]}],\n",
       "             scoring=&#x27;roc_auc&#x27;, verbose=10)</pre></div> </div></div><div class=\"sk-parallel\"><div class=\"sk-parallel-item\"><div class=\"sk-item\"><div class=\"sk-label-container\"><div class=\"sk-label fitted sk-toggleable\"><input class=\"sk-toggleable__control sk-hidden--visually\" id=\"sk-estimator-id-10\" type=\"checkbox\" ><label for=\"sk-estimator-id-10\" class=\"sk-toggleable__label fitted sk-toggleable__label-arrow fitted\">best_estimator_: Pipeline</label><div class=\"sk-toggleable__content fitted\"><pre>Pipeline(steps=[(&#x27;preprocessor&#x27;,\n",
       "                 ColumnTransformer(transformers=[(&#x27;num&#x27;, &#x27;passthrough&#x27;,\n",
       "                                                  [&#x27;average_spent&#x27;,\n",
       "                                                   &#x27;total_items&#x27;,\n",
       "                                                   &#x27;days_since_last_purchase&#x27;,\n",
       "                                                   &#x27;total_purchases&#x27;]),\n",
       "                                                 (&#x27;cat&#x27;,\n",
       "                                                  OrdinalEncoder(handle_unknown=&#x27;use_encoded_value&#x27;,\n",
       "                                                                 unknown_value=-1),\n",
       "                                                  [&#x27;seasonal_customer&#x27;])])),\n",
       "                (&#x27;models&#x27;,\n",
       "                 &lt;catboost.core.CatBoostClassifier object at 0x000001F78A47F7D0&gt;)])</pre></div> </div></div><div class=\"sk-serial\"><div class=\"sk-item\"><div class=\"sk-serial\"><div class=\"sk-item sk-dashed-wrapped\"><div class=\"sk-label-container\"><div class=\"sk-label fitted sk-toggleable\"><input class=\"sk-toggleable__control sk-hidden--visually\" id=\"sk-estimator-id-11\" type=\"checkbox\" ><label for=\"sk-estimator-id-11\" class=\"sk-toggleable__label fitted sk-toggleable__label-arrow fitted\">&nbsp;preprocessor: ColumnTransformer<a class=\"sk-estimator-doc-link fitted\" rel=\"noreferrer\" target=\"_blank\" href=\"https://scikit-learn.org/1.5/modules/generated/sklearn.compose.ColumnTransformer.html\">?<span>Documentation for preprocessor: ColumnTransformer</span></a></label><div class=\"sk-toggleable__content fitted\"><pre>ColumnTransformer(transformers=[(&#x27;num&#x27;, &#x27;passthrough&#x27;,\n",
       "                                 [&#x27;average_spent&#x27;, &#x27;total_items&#x27;,\n",
       "                                  &#x27;days_since_last_purchase&#x27;,\n",
       "                                  &#x27;total_purchases&#x27;]),\n",
       "                                (&#x27;cat&#x27;,\n",
       "                                 OrdinalEncoder(handle_unknown=&#x27;use_encoded_value&#x27;,\n",
       "                                                unknown_value=-1),\n",
       "                                 [&#x27;seasonal_customer&#x27;])])</pre></div> </div></div><div class=\"sk-parallel\"><div class=\"sk-parallel-item\"><div class=\"sk-item\"><div class=\"sk-label-container\"><div class=\"sk-label fitted sk-toggleable\"><input class=\"sk-toggleable__control sk-hidden--visually\" id=\"sk-estimator-id-12\" type=\"checkbox\" ><label for=\"sk-estimator-id-12\" class=\"sk-toggleable__label fitted sk-toggleable__label-arrow fitted\">num</label><div class=\"sk-toggleable__content fitted\"><pre>[&#x27;average_spent&#x27;, &#x27;total_items&#x27;, &#x27;days_since_last_purchase&#x27;, &#x27;total_purchases&#x27;]</pre></div> </div></div><div class=\"sk-serial\"><div class=\"sk-item\"><div class=\"sk-estimator fitted sk-toggleable\"><input class=\"sk-toggleable__control sk-hidden--visually\" id=\"sk-estimator-id-13\" type=\"checkbox\" ><label for=\"sk-estimator-id-13\" class=\"sk-toggleable__label fitted sk-toggleable__label-arrow fitted\">passthrough</label><div class=\"sk-toggleable__content fitted\"><pre>passthrough</pre></div> </div></div></div></div></div><div class=\"sk-parallel-item\"><div class=\"sk-item\"><div class=\"sk-label-container\"><div class=\"sk-label fitted sk-toggleable\"><input class=\"sk-toggleable__control sk-hidden--visually\" id=\"sk-estimator-id-14\" type=\"checkbox\" ><label for=\"sk-estimator-id-14\" class=\"sk-toggleable__label fitted sk-toggleable__label-arrow fitted\">cat</label><div class=\"sk-toggleable__content fitted\"><pre>[&#x27;seasonal_customer&#x27;]</pre></div> </div></div><div class=\"sk-serial\"><div class=\"sk-item\"><div class=\"sk-estimator fitted sk-toggleable\"><input class=\"sk-toggleable__control sk-hidden--visually\" id=\"sk-estimator-id-15\" type=\"checkbox\" ><label for=\"sk-estimator-id-15\" class=\"sk-toggleable__label fitted sk-toggleable__label-arrow fitted\">&nbsp;OrdinalEncoder<a class=\"sk-estimator-doc-link fitted\" rel=\"noreferrer\" target=\"_blank\" href=\"https://scikit-learn.org/1.5/modules/generated/sklearn.preprocessing.OrdinalEncoder.html\">?<span>Documentation for OrdinalEncoder</span></a></label><div class=\"sk-toggleable__content fitted\"><pre>OrdinalEncoder(handle_unknown=&#x27;use_encoded_value&#x27;, unknown_value=-1)</pre></div> </div></div></div></div></div></div></div><div class=\"sk-item\"><div class=\"sk-estimator fitted sk-toggleable\"><input class=\"sk-toggleable__control sk-hidden--visually\" id=\"sk-estimator-id-16\" type=\"checkbox\" ><label for=\"sk-estimator-id-16\" class=\"sk-toggleable__label fitted sk-toggleable__label-arrow fitted\">CatBoostClassifier</label><div class=\"sk-toggleable__content fitted\"><pre>&lt;catboost.core.CatBoostClassifier object at 0x000001F78A47F7D0&gt;</pre></div> </div></div></div></div></div></div></div></div></div></div></div>"
      ],
      "text/plain": [
       "GridSearchCV(cv=3,\n",
       "             estimator=Pipeline(steps=[('preprocessor', 'passthrough'),\n",
       "                                       ('models',\n",
       "                                        RandomForestClassifier(random_state=42))]),\n",
       "             n_jobs=-1,\n",
       "             param_grid=[{'models': [<catboost.core.CatBoostClassifier object at 0x000001F786AB4CE0>],\n",
       "                          'models__depth': [3, 5, 7],\n",
       "                          'models__iterations': [50, 100],\n",
       "                          'models__learning_rate': [0.01, 0.1, 0.2],\n",
       "                          'models__scale_pos_weight': [1, 5, 10...\n",
       "                          'models__min_samples_leaf': [5, 20],\n",
       "                          'models__min_samples_split': [10, 50],\n",
       "                          'models__n_estimators': [50, 100, 200],\n",
       "                          'preprocessor': [ColumnTransformer(remainder='passthrough',\n",
       "                                                             transformers=[('num',\n",
       "                                                                            StandardScaler(),\n",
       "                                                                            ['average_spent',\n",
       "                                                                             'total_items',\n",
       "                                                                             'days_since_last_purchase',\n",
       "                                                                             'total_purchases']),\n",
       "                                                                           ('cat',\n",
       "                                                                            OrdinalEncoder(),\n",
       "                                                                            ['seasonal_customer'])])]}],\n",
       "             scoring='roc_auc', verbose=10)"
      ]
     },
     "execution_count": 128,
     "metadata": {},
     "output_type": "execute_result"
    }
   ],
   "source": [
    "with joblib.parallel_backend('threading'):\n",
    "    search = GridSearchCV(\n",
    "        pipe_final,\n",
    "        param_grid=param_dist,\n",
    "        cv=3,\n",
    "        verbose=10,\n",
    "        scoring='roc_auc',\n",
    "        n_jobs=-1\n",
    "    )\n",
    "\n",
    "search.fit(X_train, y_train)"
   ]
  },
  {
   "cell_type": "code",
   "execution_count": 131,
   "id": "ec67da96-604c-43dc-8597-5731711c9050",
   "metadata": {},
   "outputs": [
    {
     "data": {
      "text/html": [
       "<div>\n",
       "<style scoped>\n",
       "    .dataframe tbody tr th:only-of-type {\n",
       "        vertical-align: middle;\n",
       "    }\n",
       "\n",
       "    .dataframe tbody tr th {\n",
       "        vertical-align: top;\n",
       "    }\n",
       "\n",
       "    .dataframe thead th {\n",
       "        text-align: right;\n",
       "    }\n",
       "</style>\n",
       "<table border=\"1\" class=\"dataframe\">\n",
       "  <thead>\n",
       "    <tr style=\"text-align: right;\">\n",
       "      <th></th>\n",
       "      <th>rank_test_score</th>\n",
       "      <th>mean_test_score</th>\n",
       "      <th>param_models</th>\n",
       "      <th>param_preprocessor</th>\n",
       "    </tr>\n",
       "  </thead>\n",
       "  <tbody>\n",
       "    <tr>\n",
       "      <th>12</th>\n",
       "      <td>1</td>\n",
       "      <td>0.710480</td>\n",
       "      <td>&lt;catboost.core.CatBoostClassifier object at 0x...</td>\n",
       "      <td>ColumnTransformer(transformers=[('num', 'passt...</td>\n",
       "    </tr>\n",
       "    <tr>\n",
       "      <th>6</th>\n",
       "      <td>2</td>\n",
       "      <td>0.710070</td>\n",
       "      <td>&lt;catboost.core.CatBoostClassifier object at 0x...</td>\n",
       "      <td>ColumnTransformer(transformers=[('num', 'passt...</td>\n",
       "    </tr>\n",
       "    <tr>\n",
       "      <th>30</th>\n",
       "      <td>3</td>\n",
       "      <td>0.709540</td>\n",
       "      <td>&lt;catboost.core.CatBoostClassifier object at 0x...</td>\n",
       "      <td>ColumnTransformer(transformers=[('num', 'passt...</td>\n",
       "    </tr>\n",
       "    <tr>\n",
       "      <th>13</th>\n",
       "      <td>4</td>\n",
       "      <td>0.709402</td>\n",
       "      <td>&lt;catboost.core.CatBoostClassifier object at 0x...</td>\n",
       "      <td>ColumnTransformer(transformers=[('num', 'passt...</td>\n",
       "    </tr>\n",
       "    <tr>\n",
       "      <th>24</th>\n",
       "      <td>5</td>\n",
       "      <td>0.709351</td>\n",
       "      <td>&lt;catboost.core.CatBoostClassifier object at 0x...</td>\n",
       "      <td>ColumnTransformer(transformers=[('num', 'passt...</td>\n",
       "    </tr>\n",
       "    <tr>\n",
       "      <th>21</th>\n",
       "      <td>6</td>\n",
       "      <td>0.709099</td>\n",
       "      <td>&lt;catboost.core.CatBoostClassifier object at 0x...</td>\n",
       "      <td>ColumnTransformer(transformers=[('num', 'passt...</td>\n",
       "    </tr>\n",
       "    <tr>\n",
       "      <th>15</th>\n",
       "      <td>7</td>\n",
       "      <td>0.709078</td>\n",
       "      <td>&lt;catboost.core.CatBoostClassifier object at 0x...</td>\n",
       "      <td>ColumnTransformer(transformers=[('num', 'passt...</td>\n",
       "    </tr>\n",
       "    <tr>\n",
       "      <th>4</th>\n",
       "      <td>8</td>\n",
       "      <td>0.708932</td>\n",
       "      <td>&lt;catboost.core.CatBoostClassifier object at 0x...</td>\n",
       "      <td>ColumnTransformer(transformers=[('num', 'passt...</td>\n",
       "    </tr>\n",
       "    <tr>\n",
       "      <th>3</th>\n",
       "      <td>9</td>\n",
       "      <td>0.708357</td>\n",
       "      <td>&lt;catboost.core.CatBoostClassifier object at 0x...</td>\n",
       "      <td>ColumnTransformer(transformers=[('num', 'passt...</td>\n",
       "    </tr>\n",
       "    <tr>\n",
       "      <th>39</th>\n",
       "      <td>10</td>\n",
       "      <td>0.708327</td>\n",
       "      <td>&lt;catboost.core.CatBoostClassifier object at 0x...</td>\n",
       "      <td>ColumnTransformer(transformers=[('num', 'passt...</td>\n",
       "    </tr>\n",
       "  </tbody>\n",
       "</table>\n",
       "</div>"
      ],
      "text/plain": [
       "    rank_test_score  mean_test_score  \\\n",
       "12                1         0.710480   \n",
       "6                 2         0.710070   \n",
       "30                3         0.709540   \n",
       "13                4         0.709402   \n",
       "24                5         0.709351   \n",
       "21                6         0.709099   \n",
       "15                7         0.709078   \n",
       "4                 8         0.708932   \n",
       "3                 9         0.708357   \n",
       "39               10         0.708327   \n",
       "\n",
       "                                         param_models  \\\n",
       "12  <catboost.core.CatBoostClassifier object at 0x...   \n",
       "6   <catboost.core.CatBoostClassifier object at 0x...   \n",
       "30  <catboost.core.CatBoostClassifier object at 0x...   \n",
       "13  <catboost.core.CatBoostClassifier object at 0x...   \n",
       "24  <catboost.core.CatBoostClassifier object at 0x...   \n",
       "21  <catboost.core.CatBoostClassifier object at 0x...   \n",
       "15  <catboost.core.CatBoostClassifier object at 0x...   \n",
       "4   <catboost.core.CatBoostClassifier object at 0x...   \n",
       "3   <catboost.core.CatBoostClassifier object at 0x...   \n",
       "39  <catboost.core.CatBoostClassifier object at 0x...   \n",
       "\n",
       "                                   param_preprocessor  \n",
       "12  ColumnTransformer(transformers=[('num', 'passt...  \n",
       "6   ColumnTransformer(transformers=[('num', 'passt...  \n",
       "30  ColumnTransformer(transformers=[('num', 'passt...  \n",
       "13  ColumnTransformer(transformers=[('num', 'passt...  \n",
       "24  ColumnTransformer(transformers=[('num', 'passt...  \n",
       "21  ColumnTransformer(transformers=[('num', 'passt...  \n",
       "15  ColumnTransformer(transformers=[('num', 'passt...  \n",
       "4   ColumnTransformer(transformers=[('num', 'passt...  \n",
       "3   ColumnTransformer(transformers=[('num', 'passt...  \n",
       "39  ColumnTransformer(transformers=[('num', 'passt...  "
      ]
     },
     "execution_count": 131,
     "metadata": {},
     "output_type": "execute_result"
    }
   ],
   "source": [
    "cv_results = pd.DataFrame(search.cv_results_)\n",
    "results = cv_results[['rank_test_score', \n",
    "                              'mean_test_score', \n",
    "                              'param_models', \n",
    "                              'param_preprocessor']].sort_values(by='rank_test_score')\n",
    "\n",
    "results.head(10)"
   ]
  },
  {
   "cell_type": "code",
   "execution_count": 133,
   "id": "dc9dc172-9826-4229-b3a6-8f49cfc78beb",
   "metadata": {},
   "outputs": [
    {
     "name": "stdout",
     "output_type": "stream",
     "text": [
      "ROC AUC на тесте: 0.7111\n"
     ]
    }
   ],
   "source": [
    "# предсказания на тесте\n",
    "y_test_pred_proba = search.predict_proba(X_test)[:, 1]\n",
    "\n",
    "# ROC AUC на тестовой выборке\n",
    "roc_auc = roc_auc_score(y_test, y_test_pred_proba)\n",
    "\n",
    "print(f\"ROC AUC на тесте: {roc_auc:.4f}\")"
   ]
  },
  {
   "cell_type": "markdown",
   "id": "85c62a60-a1f6-4c83-923f-d465bee777f9",
   "metadata": {},
   "source": [
    "## Важность признаков"
   ]
  },
  {
   "cell_type": "code",
   "execution_count": 107,
   "id": "afad0c47-6613-4a73-8320-7b67ce8c7cee",
   "metadata": {},
   "outputs": [
    {
     "data": {
      "image/png": "[encoded data removed]",
      "text/plain": [
       "<Figure size 800x350 with 1 Axes>"
      ]
     },
     "metadata": {},
     "output_type": "display_data"
    }
   ],
   "source": [
    "model = search.best_estimator_.named_steps['models']\n",
    "preprocessor = search.best_estimator_.named_steps['preprocessor']\n",
    "# трансформируем данные с помощью препроцессора\n",
    "X_train_transformed = preprocessor.transform(X_train)\n",
    "\n",
    "# TreeExplainer для бустингов\n",
    "if isinstance(model, (CatBoostClassifier, XGBClassifier, LGBMClassifier)):\n",
    "    explainer = shap.TreeExplainer(model)\n",
    "    shap_values = explainer.shap_values(X_train_transformed)\n",
    "\n",
    "# KernelExplainer для остальных моделей\n",
    "else:\n",
    "    explainer = shap.KernelExplainer(model.predict_proba, X_train_transformed)\n",
    "    shap_values = explainer.shap_values(X_train_transformed)\n",
    "\n",
    "shap.summary_plot(shap_values, X_train_transformed, plot_type='bar', feature_names=X_train.columns)"
   ]
  },
  {
   "cell_type": "markdown",
   "id": "529d4797-3162-4714-8bf6-b75abd61f700",
   "metadata": {},
   "source": [
    "## Вывод"
   ]
  },
  {
   "cell_type": "markdown",
   "id": "b320d100-8558-4ed6-be55-d526fcb4a015",
   "metadata": {},
   "source": [
    "Задача\n",
    "\n",
    "Для создания модели прогнозирования покупки клиентом в ближайший период мы разработали подход, направленный на повышение эффективности маркетинговой работы интернет-магазина. Обучающие данные включали:\n",
    "\n",
    "Датасеты с информацией о покупках (apparel-purchase)\n",
    "Данные о сообщениях клиентам из разных каналов (apparel-messages)\n",
    "Отдельный датасет с целевым признаком (бинарные значения 0/1), обозначающий отсутствие или наличие покупки в течение 90 дней, что формирует задачу бинарной классификации.\n",
    "\n",
    "Подготовка данных\n",
    "\n",
    "Частичная предобработка данных позволила выявить значительное количество дубликатов:\n",
    "\n",
    "В данных о покупках дубликаты были интерпретированы как специфическая характеристика записи и сохранены.\n",
    "В данных о сообщениях дубликаты были агрегированы.\n",
    "\n",
    "Создание признаков\n",
    "\n",
    "На основе данных о покупках и сообщениях были созданы ключевые признаки:\n",
    "\n",
    "- Общее количество покупок (total purchases)\n",
    "- Общее количество товаров (total items)\n",
    "- Средняя сумма затрат на покупку (average spent)\n",
    "- Самый популярный кластер (most popular cluster)\n",
    "- Количество дней с момента последней покупки (days since last purchase)\n",
    "- Признак сезонности клиента (seasonal customer)\n",
    "- Для улучшения качества модели при разбиении на тренировочную и тестовую выборки была применена стратификация целевого признака. Подбор гиперпараметров с использованием GridSearch позволил достичь наилучшего значения метрики ROC-AUC: 0.7106 для модели CatBoost.\n",
    "\n",
    "Анализ влияния признаков\n",
    "\n",
    "Анализ показал, что наибольшее влияние на прогнозирование имеют следующие признаки:\n",
    "\n",
    "- Средняя сумма затрат на покупку (average spent)\n",
    "- Самый популярный кластер (most popular cluster)\n",
    "- Общее количество товаров (total items)\n",
    "- Общее количество покупок (total purchases)\n",
    "- Признак дней с момента последней покупки (days since last purchase) показал меньшее влияние.\n",
    "\n",
    "Рекомендации для маркетинга\n",
    "\n",
    "Добавить время совершения покупок для более точного анализа поведения клиента.\n",
    "Просмотреть и оптимизировать процесс сохранения каждой покупки для обеспечения полной и качественной информации."
   ]
  }
 ],
 "metadata": {
  "kernelspec": {
   "display_name": "Python 3 (ipykernel)",
   "language": "python",
   "name": "python3"
  },
  "language_info": {
   "codemirror_mode": {
    "name": "ipython",
    "version": 3
   },
   "file_extension": ".py",
   "mimetype": "text/x-python",
   "name": "python",
   "nbconvert_exporter": "python",
   "pygments_lexer": "ipython3",
   "version": "3.12.4"
  }
 },
 "nbformat": 4,
 "nbformat_minor": 5
}
